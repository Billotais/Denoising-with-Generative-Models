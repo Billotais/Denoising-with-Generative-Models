{
 "cells": [
  {
   "cell_type": "markdown",
   "metadata": {},
   "source": [
    "# Denoising with generative models"
   ]
  },
  {
   "cell_type": "markdown",
   "metadata": {},
   "source": [
    "## Pytorch tests"
   ]
  },
  {
   "cell_type": "markdown",
   "metadata": {},
   "source": [
    "### Creating a few tensors as tests"
   ]
  },
  {
   "cell_type": "code",
   "execution_count": 1,
   "metadata": {},
   "outputs": [],
   "source": [
    "import torch\n",
    "import torch.nn as nn\n",
    "import torch.nn.functional as F\n",
    "import torch.optim as optim\n",
    "import torchaudio\n",
    "import matplotlib.pyplot as plt"
   ]
  },
  {
   "cell_type": "code",
   "execution_count": 8,
   "metadata": {},
   "outputs": [],
   "source": [
    "x = torch.rand(1, 1, 1024) # (batch_size, n_channels, dim)\n",
    "y = torch.rand(1, 1, 1024)"
   ]
  },
  {
   "cell_type": "code",
   "execution_count": 9,
   "metadata": {},
   "outputs": [
    {
     "data": {
      "text/plain": [
       "tensor([[[0.2493, 0.0235, 0.3726,  ..., 0.5709, 0.3134, 0.9624]]])"
      ]
     },
     "execution_count": 9,
     "metadata": {},
     "output_type": "execute_result"
    }
   ],
   "source": [
    "x"
   ]
  },
  {
   "cell_type": "code",
   "execution_count": 10,
   "metadata": {},
   "outputs": [
    {
     "data": {
      "text/plain": [
       "tensor([[[0.3985, 0.4221, 0.1960,  ..., 0.0936, 0.4269, 0.9995]]])"
      ]
     },
     "execution_count": 10,
     "metadata": {},
     "output_type": "execute_result"
    }
   ],
   "source": [
    "y"
   ]
  },
  {
   "cell_type": "code",
   "execution_count": 11,
   "metadata": {
    "scrolled": true
   },
   "outputs": [],
   "source": [
    "z = torch.cat((x,y), 1)"
   ]
  },
  {
   "cell_type": "code",
   "execution_count": 12,
   "metadata": {
    "scrolled": true
   },
   "outputs": [
    {
     "data": {
      "text/plain": [
       "tensor([[[0.2493, 0.0235, 0.3726,  ..., 0.5709, 0.3134, 0.9624],\n",
       "         [0.3985, 0.4221, 0.1960,  ..., 0.0936, 0.4269, 0.9995]]])"
      ]
     },
     "execution_count": 12,
     "metadata": {},
     "output_type": "execute_result"
    }
   ],
   "source": [
    "z"
   ]
  },
  {
   "cell_type": "code",
   "execution_count": 13,
   "metadata": {},
   "outputs": [],
   "source": [
    "w = torch.rand(1, 4, 1024)"
   ]
  },
  {
   "cell_type": "code",
   "execution_count": 14,
   "metadata": {
    "scrolled": true
   },
   "outputs": [
    {
     "data": {
      "text/plain": [
       "tensor([[[0.5144, 0.1326, 0.5184,  ..., 0.5034, 0.9790, 0.5999],\n",
       "         [0.2514, 0.4779, 0.5339,  ..., 0.0037, 0.8894, 0.6243],\n",
       "         [0.3352, 0.7154, 0.9672,  ..., 0.5820, 0.7565, 0.4447],\n",
       "         [0.4459, 0.7305, 0.5374,  ..., 0.9348, 0.0710, 0.6991]]])"
      ]
     },
     "execution_count": 14,
     "metadata": {},
     "output_type": "execute_result"
    }
   ],
   "source": [
    "w"
   ]
  },
  {
   "cell_type": "markdown",
   "metadata": {},
   "source": [
    "### Subpixel operation"
   ]
  },
  {
   "cell_type": "code",
   "execution_count": 15,
   "metadata": {},
   "outputs": [],
   "source": [
    "# from https://gist.github.com/davidaknowles/6e95a643adaf3960d1648a6b369e9d0b\n",
    "def pixel_shuffle_1d(x, upscale_factor):\n",
    "    batch_size, channels, steps = x.size()\n",
    "    channels //= upscale_factor\n",
    "    input_view = x.contiguous().view(batch_size, channels, upscale_factor, steps)\n",
    "    shuffle_out = input_view.permute(0, 1, 3, 2).contiguous()\n",
    "    return shuffle_out.view(batch_size, channels, steps * upscale_factor)"
   ]
  },
  {
   "cell_type": "code",
   "execution_count": 16,
   "metadata": {},
   "outputs": [
    {
     "data": {
      "text/plain": [
       "tensor([[[0.2493, 0.3985, 0.0235,  ..., 0.4269, 0.9624, 0.9995]]])"
      ]
     },
     "execution_count": 16,
     "metadata": {},
     "output_type": "execute_result"
    }
   ],
   "source": [
    "pixel_shuffle_1d(z, 2)"
   ]
  },
  {
   "cell_type": "code",
   "execution_count": 17,
   "metadata": {
    "scrolled": true
   },
   "outputs": [
    {
     "data": {
      "text/plain": [
       "tensor([[[0.5144, 0.2514, 0.1326,  ..., 0.8894, 0.5999, 0.6243],\n",
       "         [0.3352, 0.4459, 0.7154,  ..., 0.0710, 0.4447, 0.6991]]])"
      ]
     },
     "execution_count": 17,
     "metadata": {},
     "output_type": "execute_result"
    }
   ],
   "source": [
    "pixel_shuffle_1d(w, 2)"
   ]
  },
  {
   "cell_type": "code",
   "execution_count": null,
   "metadata": {},
   "outputs": [],
   "source": []
  },
  {
   "cell_type": "markdown",
   "metadata": {},
   "source": [
    "### Generate base sizes and count for each level"
   ]
  },
  {
   "cell_type": "code",
   "execution_count": 18,
   "metadata": {},
   "outputs": [],
   "source": [
    "# this is what they implemented in their git project\n",
    "\n",
    "def get_sizes_for_layers(B):\n",
    "    n_channels = []\n",
    "    size_filters = []\n",
    "    #test = []\n",
    "    for b in range(1, B+1):\n",
    "        n_channels.append(min(2**(6 + b), 512)) # They wrote max in paper, but min in code\n",
    "        size_filters.append(max(2**(7-b) + 1, 9)) # They wrote min in paper, but max in code\n",
    "        #test.append(min(2**(7+(B-b+1)), 512))\n",
    "    \n",
    "    return n_channels, size_filters"
   ]
  },
  {
   "cell_type": "code",
   "execution_count": 19,
   "metadata": {},
   "outputs": [],
   "source": [
    "B = 4\n",
    "n_channels, size_filters = get_sizes_for_layers(B)"
   ]
  },
  {
   "cell_type": "code",
   "execution_count": 20,
   "metadata": {},
   "outputs": [
    {
     "data": {
      "text/plain": [
       "([128, 256, 512, 512], [65, 33, 17, 9])"
      ]
     },
     "execution_count": 20,
     "metadata": {},
     "output_type": "execute_result"
    }
   ],
   "source": [
    "n_channels, size_filters #Checking values"
   ]
  },
  {
   "cell_type": "markdown",
   "metadata": {},
   "source": [
    "### Generate correct parameters for up and down"
   ]
  },
  {
   "cell_type": "code",
   "execution_count": 21,
   "metadata": {},
   "outputs": [],
   "source": [
    "# The input channel count is equal to the the output channel count of the previous layer\n",
    "# Input will be all the channel counts, shifted to the right with a 1 before\n",
    "def args_down(n_channels, size_filters):\n",
    "    return zip([1] + n_channels[:-1], n_channels, size_filters)\n",
    "\n",
    "# Input filter count is the size of the bottlneck for the first up layer\n",
    "# And then it will be the count of the previous up layer, which is equal to twice the count of the down layer\n",
    "# (since we do some stacking with the skip connections)\n",
    "\n",
    "# Output filter count  will be twice the count of the down layer \n",
    "# so that after the subpixel we get the same count as in the down layer\n",
    "# and we can stack them together\n",
    "def args_up(n_channels, size_filters):\n",
    "    return zip([int(n_channels[-1]/2)] + n_channels[::-1][:-1], n_channels[::-1], size_filters[::-1])"
   ]
  },
  {
   "cell_type": "code",
   "execution_count": 22,
   "metadata": {},
   "outputs": [
    {
     "data": {
      "text/plain": [
       "[(1, 128, 65), (128, 256, 33), (256, 512, 17), (512, 512, 9)]"
      ]
     },
     "execution_count": 22,
     "metadata": {},
     "output_type": "execute_result"
    }
   ],
   "source": [
    "list(args_down(n_channels, size_filters))"
   ]
  },
  {
   "cell_type": "code",
   "execution_count": 23,
   "metadata": {},
   "outputs": [
    {
     "data": {
      "text/plain": [
       "[(256, 512, 9), (512, 512, 17), (512, 256, 33), (256, 128, 65)]"
      ]
     },
     "execution_count": 23,
     "metadata": {},
     "output_type": "execute_result"
    }
   ],
   "source": [
    "list(args_up(n_channels, size_filters))"
   ]
  },
  {
   "cell_type": "markdown",
   "metadata": {},
   "source": [
    "#### And if we use the arguments, we get the same parameters as the manually defined ones"
   ]
  },
  {
   "cell_type": "code",
   "execution_count": 24,
   "metadata": {
    "scrolled": true
   },
   "outputs": [
    {
     "name": "stdout",
     "output_type": "stream",
     "text": [
      "1 128 65\n",
      "128 256 33\n",
      "256 512 17\n",
      "512 512 9\n",
      "512 9\n",
      "512 1024 9\n",
      "1024 1024 17\n",
      "1024 512 33\n",
      "512 256 65\n",
      "256 9\n"
     ]
    }
   ],
   "source": [
    "for n_ch_in, n_ch_out, size in args_down(n_channels, size_filters):\n",
    "    print(n_ch_in, n_ch_out, size)\n",
    "print(n_channels[-1], size_filters[-1])\n",
    "            \n",
    "for n_ch_in, n_ch_out, size in args_up(n_channels, size_filters):\n",
    "    print(n_ch_in*2, n_ch_out*2, size)\n",
    "                                            \n",
    "print(n_channels[0]*2, 9)"
   ]
  },
  {
   "cell_type": "markdown",
   "metadata": {},
   "source": [
    "## Neural Network architecture"
   ]
  },
  {
   "cell_type": "code",
   "execution_count": 25,
   "metadata": {},
   "outputs": [],
   "source": [
    "class Subpixel(nn.Module):\n",
    "    def __init__(self):\n",
    "        super(Subpixel, self).__init__()\n",
    "           \n",
    "    def forward(self, x):\n",
    "        y = pixel_shuffle_1d(x, 2)\n",
    "        return y"
   ]
  },
  {
   "cell_type": "code",
   "execution_count": 26,
   "metadata": {},
   "outputs": [],
   "source": [
    "class Concat(nn.Module):\n",
    "    def __init__(self):\n",
    "        super(Concat, self).__init__()\n",
    "           \n",
    "        \n",
    "    def forward(self, x1, x2):\n",
    "        y = torch.cat((x1, x2), 1) # concat on dim 1 (channel dimension)\n",
    "        return y"
   ]
  },
  {
   "cell_type": "code",
   "execution_count": 27,
   "metadata": {},
   "outputs": [],
   "source": [
    "class Add(nn.Module):\n",
    "    def __init__(self):\n",
    "        super(Add, self).__init__()\n",
    "           \n",
    "        \n",
    "    def forward(self, x1, x2):\n",
    "        y = torch.add(x1, x2)\n",
    "        return y"
   ]
  },
  {
   "cell_type": "code",
   "execution_count": 28,
   "metadata": {},
   "outputs": [],
   "source": [
    "class Downsampling(nn.Module):\n",
    "    \n",
    "    def __init__(self, in_ch, out_ch, size, verbose=0):\n",
    "        super(Downsampling, self).__init__()\n",
    "        self.verbose = verbose\n",
    "        \n",
    "        self.conv = nn.Sequential(\n",
    "            # We need a padding mode = same to get the same behavior as the paper\n",
    "            # But it doesn't seem to exist in pytorch\n",
    "            nn.Conv1d(in_channels=in_ch, out_channels=out_ch, kernel_size=size, stride=2, padding_mode='zeros', padding=int((size-1)/2)), \n",
    "            nn.LeakyReLU(0.2)\n",
    "        )\n",
    "        \n",
    "    def forward(self, x):\n",
    "        if self.verbose: print(\"Before conv down : \" + str(x.size()))\n",
    "        y = self.conv(x)\n",
    "        if self.verbose: print(\"After conv down : \" + str(y.size()))\n",
    "        return y"
   ]
  },
  {
   "cell_type": "code",
   "execution_count": 29,
   "metadata": {},
   "outputs": [],
   "source": [
    "class Bottleneck(nn.Module):\n",
    "    def __init__(self, ch, size, verbose=0):\n",
    "        super(Bottleneck, self).__init__()\n",
    "        self.verbose = verbose\n",
    "        self.conv = nn.Sequential(\n",
    "            # We need a padding mode = same to get the same behavior as the paper\n",
    "            # But it doesn't seem to exist in pytorch\n",
    "            nn.Conv1d(in_channels=ch, out_channels=ch, kernel_size=size, stride=2, padding_mode='zeros', padding = int((size-1)/2)), \n",
    "            nn.Dropout(0.5),\n",
    "            nn.LeakyReLU(0.2)\n",
    "        )\n",
    "        \n",
    "    def forward(self, x):\n",
    "        if self.verbose: print(\"Bottleneck before: \" + str(x.size()))\n",
    "        y = self.conv(x)\n",
    "        if self.verbose: print(\"Bottleneck after: \" + str(y.size()))\n",
    "        return y"
   ]
  },
  {
   "cell_type": "code",
   "execution_count": 30,
   "metadata": {},
   "outputs": [],
   "source": [
    "class Upsampling(nn.Module):\n",
    "    def __init__(self, in_ch, out_ch, size, verbose=0):\n",
    "        super(Upsampling, self).__init__()\n",
    "        self.verbose = verbose\n",
    "        self.conv = nn.Sequential(\n",
    "            # We need a padding mode = same to get the same behavior as the paper\n",
    "            # But it doesn't seem to exist in pytorch\n",
    "            nn.Conv1d(in_channels=in_ch, out_channels=out_ch, kernel_size=size, stride=1, padding_mode='zeros', padding = int((size-1)/2)),\n",
    "            nn.Dropout(p=0.5),\n",
    "            nn.ReLU()\n",
    "        )\n",
    "        self.subpixel = Subpixel()\n",
    "        self.concat = Concat()\n",
    "        \n",
    "    def forward(self, x1, x2):\n",
    "        if self.verbose: print(\"Upsampling before: \" + str(x1.size()))\n",
    "        y = self.conv(x1)\n",
    "        if self.verbose: print(\"Upsampling conv: \" + str(y.size()))\n",
    "        y = self.subpixel(y)\n",
    "        if self.verbose: print(\"Upsampling subpixel: \" + str(y.size()))\n",
    "        y = self.concat(y, x2)\n",
    "        if self.verbose: print(\"Upsampling concat: \" + str(y.size()))\n",
    "        return y"
   ]
  },
  {
   "cell_type": "code",
   "execution_count": 31,
   "metadata": {},
   "outputs": [],
   "source": [
    "class LastConv(nn.Module):\n",
    "    def __init__(self, in_ch, size, verbose=0):\n",
    "        super(LastConv, self).__init__()\n",
    "        self.verbose = verbose\n",
    "        self.conv = nn.Conv1d(in_channels=in_ch, out_channels=2, kernel_size=9, stride=1, padding_mode='zeros', padding = int((size-1)/2))\n",
    "        self.subpixel = Subpixel()\n",
    "        self.add = Add()\n",
    "           \n",
    "        \n",
    "    def forward(self, x1, x2):\n",
    "        if self.verbose: print(\"Final before: \" + str(x1.size()))\n",
    "        y = self.conv(x1)\n",
    "        if self.verbose: print(\"Final conv: \" + str(y.size()))\n",
    "        y = self.subpixel(y)\n",
    "        if self.verbose: print(\"Final subpixel: \" + str(y.size()))\n",
    "        y = self.add(y, x2)\n",
    "        if self.verbose: print(\"Final add: \" + str(y.size()))\n",
    "        return y"
   ]
  },
  {
   "cell_type": "code",
   "execution_count": 38,
   "metadata": {},
   "outputs": [],
   "source": [
    "class Net(nn.Module):\n",
    "\n",
    "    def __init__(self, depth, verbose=0):\n",
    "        super(Net, self).__init__()\n",
    "        self.verbose = verbose\n",
    "        \n",
    "        \n",
    "        \n",
    "        # Manual definition\n",
    "        \n",
    "        \n",
    "        #B = 4\n",
    "        #n_channels= [128, 256, 512, 512] # max(2^(6+b), 512) \n",
    "        #size_filters = [65, 33, 17, 9] # min(2^(7−b) + 1, 9)\n",
    "        \n",
    "        #self.down1 = Downsampling(1, 128, 63)\n",
    "        #self.down2 = Downsampling(128, 256, 33)\n",
    "        #self.down3 = Downsampling(256, 512, 17)\n",
    "        #self.down4 = Downsampling(512, 512, 9)\n",
    "        #self.bottleneck = Bottleneck(512, 9)\n",
    "        #self.up1 = Upsampling(int((512/2)*2), 512*2, 9)\n",
    "        #self.up2 = Upsampling(512*2, 512*2, 17)\n",
    "        #self.up3 = Upsampling(512*2, 256*2, 33)\n",
    "        #self.up4 = Upsampling(256*2, 128*2, 63)\n",
    "        #self.last = LastConv(128*2, 9)\n",
    "\n",
    "        \n",
    "        # Automatic definition, seems to work :\n",
    "        \n",
    "        B = depth\n",
    "        n_channels, size_filters = get_sizes_for_layers(B)\n",
    "        \n",
    "        # Downsampling\n",
    "        self.down = []\n",
    "        for n_ch_in, n_ch_out, size in args_down(n_channels, size_filters):\n",
    "            self.down.append(Downsampling(n_ch_in, n_ch_out, size, verbose))\n",
    "            \n",
    "        # Bottlneck\n",
    "        self.bottleneck = Bottleneck(n_channels[-1], size_filters[-1], verbose)\n",
    "        \n",
    "        # Upsampling\n",
    "        self.up = []\n",
    "        for n_ch_in, n_ch_out, size in args_up(n_channels, size_filters):\n",
    "            self.up.append(Upsampling(n_ch_in*2, n_ch_out*2, size, verbose))\n",
    "              \n",
    "        # Final layer\n",
    "        self.last = LastConv(n_channels[0]*2, 9, verbose)\n",
    "        \n",
    "        \n",
    "        \n",
    "\n",
    "    def forward(self, x):\n",
    "\n",
    "        # Manual \n",
    "        \n",
    "        #x1 = self.down1(x)\n",
    "        #x2 = self.down2(x1)\n",
    "        #x3 = self.down3(x2)\n",
    "        #x4 = self.down4(x3)\n",
    "        #b = self.bottleneck(x4)\n",
    "        #y = self.up1(b, x4)\n",
    "        #y = self.up2(y, x3)\n",
    "        #y = self.up3(y, x2)\n",
    "        #y = self.up4(y, x1)\n",
    "        #y = self.last(y, x)\n",
    "        \n",
    "        # Automatic\n",
    "        \n",
    "        # Downsampling\n",
    "        down_out = []\n",
    "        xi = x\n",
    "        for i in range(len(self.down)):\n",
    "            xi = self.down[i](xi)\n",
    "            down_out.append(xi)\n",
    "            \n",
    "        # Bottleneck\n",
    "        b = self.bottleneck(xi)\n",
    "        \n",
    "        # Upsampling\n",
    "        y = b\n",
    "        for i in range(len(self.up)):\n",
    "            y = self.up[i](y, down_out[-(i+1)])\n",
    "            \n",
    "        # Final layer\n",
    "        y = self.last(y, x)\n",
    "       \n",
    "        return y\n",
    "    \n",
    "\n",
    "#print(net)"
   ]
  },
  {
   "cell_type": "code",
   "execution_count": 83,
   "metadata": {
    "scrolled": true
   },
   "outputs": [
    {
     "name": "stdout",
     "output_type": "stream",
     "text": [
      "input : tensor([[[-2.2206, -1.8321, -0.8282,  ..., -1.2258,  0.0595,  0.9550]]])\n",
      "outputtensor([[[-2.2349, -1.8494, -0.9074,  ..., -1.2824,  0.0081,  0.9073]]],\n",
      "       grad_fn=<AddBackward0>)\n"
     ]
    }
   ],
   "source": [
    "# Warning : Depth must be < log(input size) if input is a power of 2\n",
    "# Otherwise this limit is lower : D  = max (i) s.t. inputsize/2^i is integer\n",
    "\n",
    "net = Net(8, verbose = 0)\n",
    "INPUT_SIZE = 2048\n",
    "net = net.eval()\n",
    "input = torch.randn(1, 1, INPUT_SIZE, requires_grad=False) # attention active dropout (a voir)\n",
    "# check the difference between net.eval() and net.train(), \n",
    "# look at the self.training attribute, it might be necessary for the custom layers.\n",
    "print(\"input : \" + str(input))\n",
    "out = net(input)\n",
    "print(\"output\" + str(out))\n"
   ]
  },
  {
   "cell_type": "code",
   "execution_count": 85,
   "metadata": {},
   "outputs": [
    {
     "name": "stdout",
     "output_type": "stream",
     "text": [
      "input : tensor([[[-2.2206, -1.8321, -0.8282,  ..., -1.2258,  0.0595,  0.9550]]])\n",
      "outputtensor([[[-2.2527, -1.8430, -0.9007,  ..., -1.3056,  0.0180,  0.9049]]],\n",
      "       grad_fn=<AddBackward0>)\n",
      "input : tensor([[[-2.2206, -1.8321, -0.8282,  ..., -1.2258,  0.0595,  0.9550]]])\n",
      "outputtensor([[[-2.2661, -1.8192, -0.8731,  ..., -1.2782,  0.0064,  0.9020]]],\n",
      "       grad_fn=<AddBackward0>)\n"
     ]
    }
   ],
   "source": [
    "net = net.eval()\n",
    "print(\"input : \" + str(input))\n",
    "output = net(input)\n",
    "print(\"output\" + str(out))\n",
    "print(\"input : \" + str(input))\n",
    "out = net(input)\n",
    "print(\"output\" + str(out))"
   ]
  },
  {
   "cell_type": "code",
   "execution_count": 41,
   "metadata": {},
   "outputs": [],
   "source": [
    "criterion = nn.MSELoss()\n",
    "optimizer = optim.Adam(net.parameters(), lr=0.0001)\n",
    "\n",
    "# in your training loop:\n",
    "\n",
    "#print(list(net.parameters()))\n",
    "\n",
    "optimizer.zero_grad()   # zero the gradient buffers\n",
    "out = net(input)\n",
    "loss = criterion(out, torch.randn(1, 1, INPUT_SIZE))\n",
    "loss.backward()\n",
    "optimizer.step()  \n",
    "\n",
    "#print(list(net.parameters())) # We can check that the parameters have changed."
   ]
  },
  {
   "cell_type": "code",
   "execution_count": 82,
   "metadata": {},
   "outputs": [
    {
     "name": "stdout",
     "output_type": "stream",
     "text": [
      "input : tensor([[[-0.6557,  0.2132,  1.0301,  ...,  0.1582, -2.6138, -1.1125]]])\n",
      "outputtensor([[[-0.6124,  0.3140,  0.9034,  ...,  0.1599, -2.6230, -0.8979]]],\n",
      "       grad_fn=<AddBackward0>)\n"
     ]
    }
   ],
   "source": [
    "\n",
    "print(\"input : \" + str(input))\n",
    "out = net(input)\n",
    "print(\"output\" + str(out))"
   ]
  },
  {
   "cell_type": "code",
   "execution_count": 3,
   "metadata": {},
   "outputs": [],
   "source": [
    "filename = \"/mnt/Data/maestro-v2.0.0/2004/MIDI-Unprocessed_SMF_02_R1_2004_01-05_ORIG_MID--AUDIO_02_R1_2004_05_Track05_wav.wav\"\n",
    "waveform, sample_rate = torchaudio.load(filename)"
   ]
  },
  {
   "cell_type": "code",
   "execution_count": 15,
   "metadata": {
    "scrolled": false
   },
   "outputs": [
    {
     "data": {
      "text/plain": [
       "[<matplotlib.lines.Line2D at 0x7efa48069350>]"
      ]
     },
     "execution_count": 15,
     "metadata": {},
     "output_type": "execute_result"
    },
    {
     "data": {
      "image/png": "[encoded data removed]",
      "text/plain": [
       "<Figure size 432x288 with 1 Axes>"
      ]
     },
     "metadata": {
      "needs_background": "light"
     },
     "output_type": "display_data"
    }
   ],
   "source": [
    "plt.figure()\n",
    "plt.plot(waveform[0,:].numpy())"
   ]
  },
  {
   "cell_type": "code",
   "execution_count": 10,
   "metadata": {},
   "outputs": [],
   "source": [
    "input = waveform[0]"
   ]
  },
  {
   "cell_type": "code",
   "execution_count": 11,
   "metadata": {},
   "outputs": [
    {
     "data": {
      "text/plain": [
       "tensor([0.0005, 0.0007, 0.0007,  ..., 0.0041, 0.0041, 0.0042])"
      ]
     },
     "execution_count": 11,
     "metadata": {},
     "output_type": "execute_result"
    }
   ],
   "source": [
    "input"
   ]
  },
  {
   "cell_type": "code",
   "execution_count": 17,
   "metadata": {},
   "outputs": [
    {
     "name": "stdout",
     "output_type": "stream",
     "text": [
      "Shape of transformed waveform: torch.Size([2, 2672261])\n"
     ]
    },
    {
     "data": {
      "text/plain": [
       "[<matplotlib.lines.Line2D at 0x7efa3c7ed610>]"
      ]
     },
     "execution_count": 17,
     "metadata": {},
     "output_type": "execute_result"
    },
    {
     "data": {
      "image/png": "[encoded data removed]",
      "text/plain": [
       "<Figure size 432x288 with 1 Axes>"
      ]
     },
     "metadata": {
      "needs_background": "light"
     },
     "output_type": "display_data"
    }
   ],
   "source": [
    "new_sample_rate = sample_rate/16\n",
    "\n",
    "transformed = torchaudio.transforms.Resample(sample_rate, new_sample_rate)(waveform)\n",
    "\n",
    "\n",
    "print(\"Shape of transformed waveform: {}\".format(transformed.size()))\n",
    "\n",
    "plt.figure()\n",
    "plt.plot(transformed[0,:].numpy())\n"
   ]
  },
  {
   "cell_type": "code",
   "execution_count": 34,
   "metadata": {},
   "outputs": [],
   "source": [
    "out = torch.cat((transformed0, transformed1), 0)"
   ]
  },
  {
   "cell_type": "code",
   "execution_count": 2,
   "metadata": {},
   "outputs": [
    {
     "ename": "NameError",
     "evalue": "name 'out' is not defined",
     "output_type": "error",
     "traceback": [
      "\u001b[0;31m---------------------------------------------------------------------------\u001b[0m",
      "\u001b[0;31mNameError\u001b[0m                                 Traceback (most recent call last)",
      "\u001b[0;32m<ipython-input-2-1b682753d173>\u001b[0m in \u001b[0;36m<module>\u001b[0;34m\u001b[0m\n\u001b[0;32m----> 1\u001b[0;31m \u001b[0mtorchaudio\u001b[0m\u001b[0;34m.\u001b[0m\u001b[0msave\u001b[0m\u001b[0;34m(\u001b[0m\u001b[0;34m\"/mnt/Data/maestro-v2.0.0/out.mp3\"\u001b[0m\u001b[0;34m,\u001b[0m \u001b[0mout\u001b[0m\u001b[0;34m,\u001b[0m \u001b[0mnew_sample_rate\u001b[0m\u001b[0;34m,\u001b[0m \u001b[0mprecision\u001b[0m\u001b[0;34m=\u001b[0m\u001b[0;36m16\u001b[0m\u001b[0;34m,\u001b[0m \u001b[0mchannels_first\u001b[0m\u001b[0;34m=\u001b[0m\u001b[0;32mTrue\u001b[0m\u001b[0;34m)\u001b[0m\u001b[0;34m\u001b[0m\u001b[0;34m\u001b[0m\u001b[0m\n\u001b[0m",
      "\u001b[0;31mNameError\u001b[0m: name 'out' is not defined"
     ]
    }
   ],
   "source": [
    "torchaudio.save(\"/mnt/Data/maestro-v2.0.0/out.mp3\", out, new_sample_rate, precision=16, channels_first=True)"
   ]
  },
  {
   "cell_type": "code",
   "execution_count": null,
   "metadata": {},
   "outputs": [],
   "source": [
    "# input downsampling : soit doubler pixels sur interpolation\n",
    "\n",
    "# Essayer de faire un network identié\n"
   ]
  },
  {
   "cell_type": "code",
   "execution_count": 2,
   "metadata": {},
   "outputs": [],
   "source": [
    "loss = [0.0008390009170398116, 0.000655410229228437, 0.0005588991334661841, 0.0004300789150875062, 0.0003297694493085146, 0.0002594758407212794, 0.0002273184945806861, 0.0001620490220375359, 8.730070112505928e-05, 0.0002593088720459491, 8.405254629906267e-05, 8.988057379610837e-05, 0.0001238928671227768, 0.00016848824452608824, 0.00010281649883836508, 0.0002348031266592443, 0.00013156337081454694, 0.00014760976773686707, 0.00017685783677734435, 0.00013016008597332984, 7.5252064561937e-05, 0.00011085756705142558, 0.00013003221829421818, 6.748969462933019e-05, 5.497725942404941e-05, 0.00011936124064959586, 8.52036610012874e-05, 5.9352038078941405e-05, 7.048975385259837e-05, 6.616163591388613e-05, 9.045869228430092e-05, 6.23676460236311e-05, 6.65065017528832e-05, 8.102798892650753e-05, 6.56345728202723e-05, 5.997294283588417e-05, 5.7421573728788644e-05, 4.9465030315332115e-05, 3.770300099859014e-05, 3.903453398379497e-05, 7.419372559525073e-05, 6.320970715023577e-05, 3.2322459446731955e-05, 5.241789040155709e-05, 6.538881279993802e-05, 3.518908852129243e-05, 4.960340811521746e-05, 4.1261795558966696e-05, 2.860366839740891e-05, 6.175053567858413e-05, 5.936433808528818e-05, 3.383681905688718e-05, 3.577697862056084e-05, 3.358021058375016e-05, 5.422195317805745e-05, 3.0085539037827402e-05, 3.164291410939768e-05, 5.069940380053595e-05, 2.2674781575915404e-05, 4.852132042287849e-05, 3.5734403354581445e-05, 2.8887168809887953e-05, 3.5063247196376324e-05, 4.659250771510415e-05, 4.139330849284306e-05, 2.70798773271963e-05, 3.414817911107093e-05, 3.670871228678152e-05, 2.678853525139857e-05, 1.7521721019875258e-05, 6.020520959282294e-05, 3.9104292227420956e-05, 4.5606113417306915e-05, 4.851707490161061e-05, 3.421917062951252e-05, 5.41179470019415e-05, 3.353769352543168e-05, 3.009432475664653e-05, 3.295214628451504e-05, 2.4049684725468978e-05, 3.439633292146027e-05, 4.1930805309675634e-05, 2.4152453988790512e-05, 2.958717232104391e-05, 1.9118970158160664e-05, 2.2928677935851738e-05, 2.634805059642531e-05, 2.3413369490299374e-05, 3.5052373277721927e-05, 2.5921399355866015e-05, 4.2488456529099494e-05, 3.589350308175199e-05, 2.4359826056752354e-05, 3.5040353395743296e-05, 2.8995647880947217e-05, 2.783156742225401e-05, 3.1372714147437364e-05, 2.686695552256424e-05, 2.5199318770319223e-05, 1.9791868908214383e-05, 2.8431721148081124e-05, 2.6515286663197912e-05, 3.454523903201334e-05, 2.6106003133463673e-05, 2.2539825295098126e-05, 2.768476406345144e-05, 2.5551491489750333e-05, 1.4432625903282315e-05, 1.803710256353952e-05, 2.8709495381917804e-05, 1.7959278920898214e-05, 1.9469600374577567e-05, 1.8742437532637268e-05, 2.3810269340174273e-05, 1.5511115634581074e-05, 2.693030910450034e-05, 2.3705844796495512e-05, 2.360700091230683e-05, 2.2928041289560497e-05, 1.9219856767449528e-05, 1.6060728739830665e-05, 2.271575795020908e-05, 1.6948133634286933e-05, 1.4545010344590992e-05, 2.57137326116208e-05, 3.372557694092393e-05, 2.937880708486773e-05, 1.6248399333562702e-05, 1.4063843082112726e-05, 1.643177711230237e-05, 1.8712220480665565e-05, 1.3670422049472108e-05, 1.702915324131027e-05, 1.9108783817500807e-05, 1.2554396562336478e-05, 2.0530551410047337e-05, 2.2059968614485115e-05, 2.0266266801627353e-05, 1.8945547708426602e-05, 1.706575494608842e-05, 3.207133704563603e-05, 1.3409925486485008e-05, 2.8842674510087818e-05, 1.695361061138101e-05, 1.552145113237202e-05, 2.099793891829904e-05, 2.8125827157055028e-05, 1.9721774151548743e-05, 1.6831905668368563e-05, 2.061776103801094e-05, 1.782964864105452e-05, 1.4957594430597965e-05, 1.531409907329362e-05, 1.4994009688962251e-05, 2.5462544726906344e-05, 2.1392368580563925e-05, 1.526329288026318e-05, 1.4137614925857633e-05, 2.5028786694747396e-05, 2.1089790607220493e-05, 1.675095882092137e-05, 1.4379571439349093e-05, 1.3048761502432171e-05, 1.390087345498614e-05, 1.785170752555132e-05, 1.5771895050420426e-05, 1.8458249542163685e-05, 1.921199873322621e-05, 1.3150603081157897e-05, 1.7563144865562208e-05, 2.0419913198566064e-05, 1.876370151876472e-05, 1.2026210242765956e-05, 1.7368309272569604e-05, 1.2359850188659038e-05, 1.495528340456076e-05, 1.5072220776346512e-05, 1.9082064682152122e-05, 1.6815823983051814e-05, 1.8179029211751185e-05, 1.0747925443865824e-05, 1.2485932529671118e-05, 1.9014529243577272e-05, 1.4840682524663862e-05, 2.0937895897077397e-05, 1.59078754222719e-05, 1.4904604540788569e-05, 2.2987087504589e-05, 1.243421957042301e-05, 1.2783730198862031e-05, 1.6779442375991493e-05, 1.3641312762047164e-05, 1.3960797332401853e-05, 1.3529201169149019e-05, 1.808498018363025e-05, 1.428188170393696e-05, 1.704982787487097e-05, 1.5241380424413364e-05, 1.9078715922660194e-05, 1.030388921208214e-05, 1.5611527487635612e-05, 1.197105575556634e-05, 1.8983140762429684e-05, 1.660833731875755e-05, 1.1952299246331677e-05, 1.1417094356147572e-05, 1.6175006749108434e-05, 1.2097859325876925e-05, 1.8492915842216462e-05, 1.209269612445496e-05, 1.5212451216939371e-05, 1.9113640519208275e-05, 1.2268495993339457e-05, 1.7909602320287377e-05, 1.9974244423792697e-05, 1.0010558071371634e-05, 1.5629955669282936e-05, 1.4412346899916884e-05, 2.1911087969783694e-05, 1.750754745444283e-05, 1.082310154743027e-05, 1.459782652091235e-05 ,1.2566013538162224e-05 ,1.3371751265367493e-05 ,1.060499926097691e-05 ,2.0175000827293843e-05 ,2.141276308975648e-05 ,1.3255903468234465e-05 ,1.7055510397767648e-05 ,1.7968719475902617e-05 ,1.4370461940416135e-05 ,1.2235188478371128e-05 ,1.2293370673432946e-05 ,1.1757437277992722e-05 ,1.2105317182431463e-05 ,1.6255311493296176e-05 ,1.1896729120053351e-05 ,1.487879671913106e-05 ,1.1295608601358254e-05 ,9.25862059375504e-06 ,1.9973736925749108e-05 ,1.438514118490275e-05 ,1.2352052181086037e-05 ,1.1343625374138355e-05 ,1.3249932635517325e-05 ,1.4263965567806736e-05 ,1.2794293070328422e-05 ,1.3226572264102288e-05 ,1.719966167001985e-05 ,1.2021428119624034e-05 ,1.156050984718604e-05 ,1.230572524946183e-05 ,1.4318557077785954e-05 ,1.122141839005053e-05 ,9.986012628360186e-06 ,9.981857147067785e-06 ,1.4472951988864224e-05 ,1.168482231150847e-05 ,7.902608558651991e-06 ,1.3008877431275323e-05 ,1.6526733816135675e-05 ,1.1215872291359119e-05 ,1.4425942936213687e-05 ,1.1553041986189783e-05 ,1.4481283869827166e-05]"
   ]
  },
  {
   "cell_type": "code",
   "execution_count": 5,
   "metadata": {},
   "outputs": [
    {
     "data": {
      "image/png": "[encoded data removed]",
      "text/plain": [
       "<Figure size 432x288 with 1 Axes>"
      ]
     },
     "metadata": {
      "needs_background": "light"
     },
     "output_type": "display_data"
    }
   ],
   "source": [
    "plt.plot(loss)\n",
    "plt.yscale('log')"
   ]
  },
  {
   "cell_type": "code",
   "execution_count": null,
   "metadata": {},
   "outputs": [],
   "source": []
  }
 ],
 "metadata": {
  "kernelspec": {
   "display_name": "Python 3",
   "language": "python",
   "name": "python3"
  },
  "language_info": {
   "codemirror_mode": {
    "name": "ipython",
    "version": 3
   },
   "file_extension": ".py",
   "mimetype": "text/x-python",
   "name": "python",
   "nbconvert_exporter": "python",
   "pygments_lexer": "ipython3",
   "version": "3.7.4"
  }
 },
 "nbformat": 4,
 "nbformat_minor": 4
}
