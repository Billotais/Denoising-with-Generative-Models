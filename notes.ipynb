{
 "cells": [
  {
   "cell_type": "markdown",
   "metadata": {},
   "source": [
    "# Denoising with generative models"
   ]
  },
  {
   "cell_type": "markdown",
   "metadata": {},
   "source": [
    "## Pytorch tests"
   ]
  },
  {
   "cell_type": "markdown",
   "metadata": {},
   "source": [
    "### Creating a few tensors as tests"
   ]
  },
  {
   "cell_type": "code",
   "execution_count": 2,
   "metadata": {},
   "outputs": [],
   "source": [
    "import torch\n",
    "import torch.nn as nn\n",
    "import torch.nn.functional as F"
   ]
  },
  {
   "cell_type": "code",
   "execution_count": 11,
   "metadata": {},
   "outputs": [],
   "source": [
    "x = torch.rand(1, 1, 1024) # (batch_size, n_channels, dim)\n",
    "y = torch.rand(1, 1, 1024)"
   ]
  },
  {
   "cell_type": "code",
   "execution_count": 12,
   "metadata": {},
   "outputs": [
    {
     "data": {
      "text/plain": [
       "tensor([[[0.9272, 0.5846, 0.5187,  ..., 0.9408, 0.6076, 0.8869]]])"
      ]
     },
     "execution_count": 12,
     "metadata": {},
     "output_type": "execute_result"
    }
   ],
   "source": [
    "x"
   ]
  },
  {
   "cell_type": "code",
   "execution_count": 13,
   "metadata": {},
   "outputs": [
    {
     "data": {
      "text/plain": [
       "tensor([[[0.7180, 0.6617, 0.1078,  ..., 0.9732, 0.5078, 0.5331]]])"
      ]
     },
     "execution_count": 13,
     "metadata": {},
     "output_type": "execute_result"
    }
   ],
   "source": [
    "y"
   ]
  },
  {
   "cell_type": "code",
   "execution_count": 16,
   "metadata": {
    "scrolled": true
   },
   "outputs": [],
   "source": [
    "z = torch.cat((x,y), 1)"
   ]
  },
  {
   "cell_type": "code",
   "execution_count": 22,
   "metadata": {
    "scrolled": true
   },
   "outputs": [
    {
     "data": {
      "text/plain": [
       "tensor([[[0.9272, 0.5846, 0.5187,  ..., 0.9408, 0.6076, 0.8869],\n",
       "         [0.7180, 0.6617, 0.1078,  ..., 0.9732, 0.5078, 0.5331]]])"
      ]
     },
     "execution_count": 22,
     "metadata": {},
     "output_type": "execute_result"
    }
   ],
   "source": [
    "z"
   ]
  },
  {
   "cell_type": "code",
   "execution_count": 29,
   "metadata": {},
   "outputs": [],
   "source": [
    "w = torch.rand(1, 4, 1024)"
   ]
  },
  {
   "cell_type": "code",
   "execution_count": 30,
   "metadata": {
    "scrolled": true
   },
   "outputs": [
    {
     "data": {
      "text/plain": [
       "tensor([[[0.0650, 0.1126, 0.8710,  ..., 0.1141, 0.4701, 0.9967],\n",
       "         [0.4418, 0.6672, 0.8837,  ..., 0.7269, 0.5477, 0.4658],\n",
       "         [0.1010, 0.7610, 0.4025,  ..., 0.6314, 0.8210, 0.0708],\n",
       "         [0.4650, 0.3096, 0.4837,  ..., 0.4657, 0.0105, 0.0923]]])"
      ]
     },
     "execution_count": 30,
     "metadata": {},
     "output_type": "execute_result"
    }
   ],
   "source": [
    "w"
   ]
  },
  {
   "cell_type": "markdown",
   "metadata": {},
   "source": [
    "### Subpixel operation"
   ]
  },
  {
   "cell_type": "code",
   "execution_count": 23,
   "metadata": {},
   "outputs": [],
   "source": [
    "# from https://gist.github.com/davidaknowles/6e95a643adaf3960d1648a6b369e9d0b\n",
    "def pixel_shuffle_1d(x, upscale_factor):\n",
    "    batch_size, channels, steps = x.size()\n",
    "    channels //= upscale_factor\n",
    "    input_view = x.contiguous().view(batch_size, channels, upscale_factor, steps)\n",
    "    shuffle_out = input_view.permute(0, 1, 3, 2).contiguous()\n",
    "    return shuffle_out.view(batch_size, channels, steps * upscale_factor)"
   ]
  },
  {
   "cell_type": "code",
   "execution_count": 31,
   "metadata": {},
   "outputs": [
    {
     "data": {
      "text/plain": [
       "tensor([[[0.9272, 0.7180, 0.5846,  ..., 0.5078, 0.8869, 0.5331]]])"
      ]
     },
     "execution_count": 31,
     "metadata": {},
     "output_type": "execute_result"
    }
   ],
   "source": [
    "pixel_shuffle_1d(z, 2)"
   ]
  },
  {
   "cell_type": "code",
   "execution_count": 32,
   "metadata": {
    "scrolled": true
   },
   "outputs": [
    {
     "data": {
      "text/plain": [
       "tensor([[[0.0650, 0.4418, 0.1126,  ..., 0.5477, 0.9967, 0.4658],\n",
       "         [0.1010, 0.4650, 0.7610,  ..., 0.0105, 0.0708, 0.0923]]])"
      ]
     },
     "execution_count": 32,
     "metadata": {},
     "output_type": "execute_result"
    }
   ],
   "source": [
    "pixel_shuffle_1d(w, 2)"
   ]
  },
  {
   "cell_type": "code",
   "execution_count": 47,
   "metadata": {
    "scrolled": true
   },
   "outputs": [
    {
     "data": {
      "text/plain": [
       "([128, 256, 512, 512], [65, 33, 17, 9])"
      ]
     },
     "execution_count": 47,
     "metadata": {},
     "output_type": "execute_result"
    }
   ],
   "source": [
    "n_channels, size_filters #Checking values"
   ]
  },
  {
   "cell_type": "code",
   "execution_count": null,
   "metadata": {},
   "outputs": [],
   "source": []
  },
  {
   "cell_type": "markdown",
   "metadata": {},
   "source": [
    "### Generate base sizes and count for each level"
   ]
  },
  {
   "cell_type": "code",
   "execution_count": 45,
   "metadata": {},
   "outputs": [],
   "source": [
    "# this is what they implemented in their git project\n",
    "\n",
    "def get_sizes_for_layers(B):\n",
    "    n_channels = []\n",
    "    size_filters = []\n",
    "    for b in range(1, B+1):\n",
    "        n_channels.append(min(2**(6 + b), 512)) # They wrote max in paper, but min in code\n",
    "        size_filters.append(max(2**(7-b) + 1, 9)) # They wrote min in paper, but max in code\n",
    "    return n_channels, size_filters"
   ]
  },
  {
   "cell_type": "code",
   "execution_count": 46,
   "metadata": {},
   "outputs": [],
   "source": [
    "B = 4\n",
    "n_channels, size_filters = get_sizes_for_layers(B)"
   ]
  },
  {
   "cell_type": "markdown",
   "metadata": {},
   "source": [
    "### Generate correct parameters for up and down"
   ]
  },
  {
   "cell_type": "code",
   "execution_count": 48,
   "metadata": {},
   "outputs": [],
   "source": [
    "# The input channel count is equal to the the output channel count of the previous layer\n",
    "# Input will be all the channel counts, shifted to the right with a 1 before\n",
    "def args_down(n_channels, size_filters):\n",
    "    return zip([1] + n_channels[:-1], n_channels, size_filters)\n",
    "\n",
    "# Input filter count is the size of the bottlneck for the first up layer\n",
    "# And then it will be the count of the previous up layer, which is equal to twice the count of the down layer\n",
    "# (since we do some stacking with the skip connections)\n",
    "\n",
    "# Output filter count  will be twice the count of the down layer \n",
    "# so that after the subpixel we get the same count as in the down layer\n",
    "# and we can stack them together\n",
    "def args_up(n_channels, size_filters):\n",
    "    return zip([int(n_channels[-1]/2)] + n_channels[::-1][:-1], n_channels[::-1], size_filters[::-1])"
   ]
  },
  {
   "cell_type": "code",
   "execution_count": 49,
   "metadata": {},
   "outputs": [
    {
     "data": {
      "text/plain": [
       "[(1, 128, 65), (128, 256, 33), (256, 512, 17), (512, 512, 9)]"
      ]
     },
     "execution_count": 49,
     "metadata": {},
     "output_type": "execute_result"
    }
   ],
   "source": [
    "list(args_down(n_channels, size_filters))"
   ]
  },
  {
   "cell_type": "code",
   "execution_count": 50,
   "metadata": {},
   "outputs": [
    {
     "data": {
      "text/plain": [
       "[(256, 512, 9), (512, 512, 17), (512, 256, 33), (256, 128, 65)]"
      ]
     },
     "execution_count": 50,
     "metadata": {},
     "output_type": "execute_result"
    }
   ],
   "source": [
    "list(args_up(n_channels, size_filters))"
   ]
  },
  {
   "cell_type": "markdown",
   "metadata": {},
   "source": [
    "#### And if we use the arguments, we get the same parameters as the manually defined ones"
   ]
  },
  {
   "cell_type": "code",
   "execution_count": 51,
   "metadata": {
    "scrolled": true
   },
   "outputs": [
    {
     "name": "stdout",
     "output_type": "stream",
     "text": [
      "1 128 65\n",
      "128 256 33\n",
      "256 512 17\n",
      "512 512 9\n",
      "512 9\n",
      "512 1024 9\n",
      "1024 1024 17\n",
      "1024 512 33\n",
      "512 256 65\n",
      "256 9\n"
     ]
    }
   ],
   "source": [
    "for n_ch_in, n_ch_out, size in args_down(n_channels, size_filters):\n",
    "    print(n_ch_in, n_ch_out, size)\n",
    "print(n_channels[-1], size_filters[-1])\n",
    "            \n",
    "for n_ch_in, n_ch_out, size in args_up(n_channels, size_filters):\n",
    "    print(n_ch_in*2, n_ch_out*2, size)\n",
    "                                            \n",
    "print(n_channels[0]*2, 9)"
   ]
  },
  {
   "cell_type": "markdown",
   "metadata": {},
   "source": [
    "## Neural Network architecture"
   ]
  },
  {
   "cell_type": "code",
   "execution_count": 33,
   "metadata": {},
   "outputs": [],
   "source": [
    "class Subpixel(nn.Module):\n",
    "    def __init__(self):\n",
    "        super(Subpixel, self).__init__()\n",
    "           \n",
    "    def forward(self, x):\n",
    "        y = pixel_shuffle_1d(x, 2)\n",
    "        return y"
   ]
  },
  {
   "cell_type": "code",
   "execution_count": 34,
   "metadata": {},
   "outputs": [],
   "source": [
    "class Concat(nn.Module):\n",
    "    def __init__(self):\n",
    "        super(Concat, self).__init__()\n",
    "           \n",
    "        \n",
    "    def forward(self, x1, x2):\n",
    "        y = torch.cat((x1, x2), 1) # concat on dim 1 (channel dimension)\n",
    "        return y"
   ]
  },
  {
   "cell_type": "code",
   "execution_count": 35,
   "metadata": {},
   "outputs": [],
   "source": [
    "class Downsampling(nn.Module):\n",
    "    \n",
    "    def __init__(self, in_ch, out_ch, size):\n",
    "        super(Downsampling, self).__init__()\n",
    "        \n",
    "        self.conv = nn.Sequential(\n",
    "            # We need a padding mode = same to get the same behavior as the paper\n",
    "            # But it doesn't seem to exist in pytorch\n",
    "            nn.Conv1d(in_channels=in_ch, out_channels=out_ch, kernel_size=size, stride=2, padding_mode='zeros'), \n",
    "            nn.LeakyReLU(0.2)\n",
    "        )\n",
    "        \n",
    "    def forward(self, x):\n",
    "        y = self.conv(x)\n",
    "        return y"
   ]
  },
  {
   "cell_type": "code",
   "execution_count": 36,
   "metadata": {},
   "outputs": [],
   "source": [
    "class Bottleneck(nn.Module):\n",
    "    def __init__(self, ch, size):\n",
    "        super(Bottleneck, self).__init__()\n",
    "        self.conv = nn.Sequential(\n",
    "            # We need a padding mode = same to get the same behavior as the paper\n",
    "            # But it doesn't seem to exist in pytorch\n",
    "            nn.Conv1d(in_channels=ch, out_channels=ch, kernel_size=size, stride=2, padding_mode='zeros'), \n",
    "            nn.Dropout(0.5),\n",
    "            nn.LeakyReLU(0.2)\n",
    "        )\n",
    "        \n",
    "    def forward(self, x):\n",
    "        y = self.conv(x)\n",
    "        return y"
   ]
  },
  {
   "cell_type": "code",
   "execution_count": 37,
   "metadata": {},
   "outputs": [],
   "source": [
    "class Upsampling(nn.Module):\n",
    "    def __init__(self, in_ch, out_ch, size):\n",
    "        super(Upsampling, self).__init__()\n",
    "        self.conv = nn.Sequential(\n",
    "            # We need a padding mode = same to get the same behavior as the paper\n",
    "            # But it doesn't seem to exist in pytorch\n",
    "            nn.Conv1d(in_channels=in_ch, out_channels=out_ch, kernel_size=size, stride=1, padding_mode='zeros'),\n",
    "            nn.Dropout(p=0.5),\n",
    "            nn.ReLU()\n",
    "        )\n",
    "        self.subpixel = Subpixel()\n",
    "        self.concat = Concat()\n",
    "        \n",
    "    def forward(self, x1, x2):\n",
    "        y = self.conv(x1)\n",
    "        y = self.subpixel(y)\n",
    "        y = self.concat(y, x2)\n",
    "        return y"
   ]
  },
  {
   "cell_type": "code",
   "execution_count": 38,
   "metadata": {},
   "outputs": [],
   "source": [
    "class LastConv(nn.Module):\n",
    "    def __init__(self, in_ch, size):\n",
    "        super(LastConv, self).__init__()\n",
    "        self.conv = nn.Conv1d(in_channels=in_ch, out_channels=2, kernel_size=9, stride=1, padding_mode='zeros')\n",
    "        self.subpixel = Subpixel()\n",
    "           \n",
    "        \n",
    "    def forward(self, x1, x2):\n",
    "        y = self.conv(x1)\n",
    "        y = self.subpixel(y)\n",
    "        return y"
   ]
  },
  {
   "cell_type": "code",
   "execution_count": 53,
   "metadata": {
    "scrolled": false
   },
   "outputs": [],
   "source": [
    "class Net(nn.Module):\n",
    "\n",
    "    def __init__(self, depth):\n",
    "        super(Net, self).__init__()\n",
    "        \n",
    "        \n",
    "        \n",
    "        # Manual definition\n",
    "        \n",
    "        \n",
    "        B = 4\n",
    "        n_channels= [128, 256, 512, 512] # max(2^(6+b), 512) \n",
    "        size_filters = [65, 33, 17, 9] # min(2^(7−b) + 1, 9)\n",
    "        \n",
    "        self.down1 = Downsampling(1, 128, 63)\n",
    "        self.down2 = Downsampling(128, 256, 33)\n",
    "        self.down3 = Downsampling(256, 512, 17)\n",
    "        self.down4 = Downsampling(512, 512, 9)\n",
    "        self.bottleneck = Bottleneck(512, 9)\n",
    "        self.up1 = Upsampling(int((512/2)*2), 512*2, 9)\n",
    "        self.up2 = Upsampling(512*2, 512*2, 17)\n",
    "        self.up3 = Upsampling(512*2, 256*2, 33)\n",
    "        self.up4 = Upsampling(256*2, 128*2, 63)\n",
    "        self.last = LastConv(128*2, 9)\n",
    "\n",
    "        \n",
    "        # Automatic definition, seems to work :\n",
    "        \n",
    "        B = depth\n",
    "        n_channels, size_filters = get_sizes_for_layers(B)\n",
    "        \n",
    "        # Downsampling\n",
    "        self.down = []\n",
    "        for n_ch_in, n_ch_out, size in args_down(n_channels, size_filters):\n",
    "            self.down.append(Downsampling(n_ch_in, n_ch_out, size))\n",
    "            \n",
    "        # Bottlneck\n",
    "        self.bottleneck = Bottleneck(n_channels[-1], size_filters[-1])\n",
    "        \n",
    "        # Upsampling\n",
    "        self.up = []\n",
    "        for n_ch_in, n_ch_out, size in args_up(n_channels, size_filters):\n",
    "            self.up.append(Upsampling(n_ch_in*2, n_ch_out*2, size))\n",
    "              \n",
    "        # Final layer\n",
    "        self.last = LastConv(n_channels[0]*2, 9)\n",
    "        \n",
    "        \n",
    "        \n",
    "\n",
    "    def forward(self, x):\n",
    "\n",
    "        # Manual \n",
    "        \n",
    "        x1 = self.down1(x)\n",
    "        x2 = self.down2(x1)\n",
    "        x3 = self.down3(x2)\n",
    "        x4 = self.down4(x3)\n",
    "        b = self.bottleneck(x4)\n",
    "        y = self.up1(b, x4)\n",
    "        y = self.up2(y, x3)\n",
    "        y = self.up3(y, x2)\n",
    "        y = self.up4(y, x1)\n",
    "        y = self.last(y)\n",
    "        \n",
    "        # Automatic\n",
    "        \n",
    "        # Downsampling\n",
    "        down_out = []\n",
    "        for i in range(len(self.down)):\n",
    "            x = self.down[i](x)\n",
    "            down_out.append(x)\n",
    "            \n",
    "        # Bottleneck\n",
    "        b = self.bottleneck(x)\n",
    "        \n",
    "        # Upsampling\n",
    "        y = b\n",
    "        for i in range(len(self.up)):\n",
    "            y = self.up[i](y, down_out[:-(i+1)])\n",
    "            \n",
    "        # Final layer\n",
    "        y = self.last(y)\n",
    "       \n",
    "        return y\n",
    "    \n",
    "net = Net(4)\n",
    "#print(net)"
   ]
  },
  {
   "cell_type": "code",
   "execution_count": 54,
   "metadata": {},
   "outputs": [
    {
     "name": "stdout",
     "output_type": "stream",
     "text": [
      "Net(\n",
      "  (down1): Downsampling(\n",
      "    (conv): Sequential(\n",
      "      (0): Conv1d(1, 128, kernel_size=(63,), stride=(2,))\n",
      "      (1): LeakyReLU(negative_slope=0.2)\n",
      "    )\n",
      "  )\n",
      "  (down2): Downsampling(\n",
      "    (conv): Sequential(\n",
      "      (0): Conv1d(128, 256, kernel_size=(33,), stride=(2,))\n",
      "      (1): LeakyReLU(negative_slope=0.2)\n",
      "    )\n",
      "  )\n",
      "  (down3): Downsampling(\n",
      "    (conv): Sequential(\n",
      "      (0): Conv1d(256, 512, kernel_size=(17,), stride=(2,))\n",
      "      (1): LeakyReLU(negative_slope=0.2)\n",
      "    )\n",
      "  )\n",
      "  (down4): Downsampling(\n",
      "    (conv): Sequential(\n",
      "      (0): Conv1d(512, 512, kernel_size=(9,), stride=(2,))\n",
      "      (1): LeakyReLU(negative_slope=0.2)\n",
      "    )\n",
      "  )\n",
      "  (bottleneck): Bottleneck(\n",
      "    (conv): Sequential(\n",
      "      (0): Conv1d(512, 512, kernel_size=(9,), stride=(2,))\n",
      "      (1): Dropout(p=0.5, inplace=False)\n",
      "      (2): LeakyReLU(negative_slope=0.2)\n",
      "    )\n",
      "  )\n",
      "  (up1): Upsampling(\n",
      "    (conv): Sequential(\n",
      "      (0): Conv1d(512, 1024, kernel_size=(9,), stride=(1,))\n",
      "      (1): Dropout(p=0.5, inplace=False)\n",
      "      (2): ReLU()\n",
      "    )\n",
      "    (subpixel): Subpixel()\n",
      "    (concat): Concat()\n",
      "  )\n",
      "  (up2): Upsampling(\n",
      "    (conv): Sequential(\n",
      "      (0): Conv1d(1024, 1024, kernel_size=(17,), stride=(1,))\n",
      "      (1): Dropout(p=0.5, inplace=False)\n",
      "      (2): ReLU()\n",
      "    )\n",
      "    (subpixel): Subpixel()\n",
      "    (concat): Concat()\n",
      "  )\n",
      "  (up3): Upsampling(\n",
      "    (conv): Sequential(\n",
      "      (0): Conv1d(1024, 512, kernel_size=(33,), stride=(1,))\n",
      "      (1): Dropout(p=0.5, inplace=False)\n",
      "      (2): ReLU()\n",
      "    )\n",
      "    (subpixel): Subpixel()\n",
      "    (concat): Concat()\n",
      "  )\n",
      "  (up4): Upsampling(\n",
      "    (conv): Sequential(\n",
      "      (0): Conv1d(512, 256, kernel_size=(63,), stride=(1,))\n",
      "      (1): Dropout(p=0.5, inplace=False)\n",
      "      (2): ReLU()\n",
      "    )\n",
      "    (subpixel): Subpixel()\n",
      "    (concat): Concat()\n",
      "  )\n",
      "  (last): LastConv(\n",
      "    (conv): Conv1d(256, 2, kernel_size=(9,), stride=(1,))\n",
      "    (subpixel): Subpixel()\n",
      "  )\n",
      ")\n"
     ]
    }
   ],
   "source": [
    "print(net)"
   ]
  },
  {
   "cell_type": "code",
   "execution_count": null,
   "metadata": {},
   "outputs": [],
   "source": []
  }
 ],
 "metadata": {
  "kernelspec": {
   "display_name": "Python 3",
   "language": "python",
   "name": "python3"
  },
  "language_info": {
   "codemirror_mode": {
    "name": "ipython",
    "version": 3
   },
   "file_extension": ".py",
   "mimetype": "text/x-python",
   "name": "python",
   "nbconvert_exporter": "python",
   "pygments_lexer": "ipython3",
   "version": "3.7.3"
  }
 },
 "nbformat": 4,
 "nbformat_minor": 2
}
