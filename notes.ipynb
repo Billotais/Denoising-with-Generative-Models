{
 "cells": [
  {
   "cell_type": "markdown",
   "metadata": {},
   "source": [
    "# Denoising with generative models"
   ]
  },
  {
   "cell_type": "markdown",
   "metadata": {},
   "source": [
    "## Pytorch tests"
   ]
  },
  {
   "cell_type": "markdown",
   "metadata": {},
   "source": [
    "### Creating a few tensors as tests"
   ]
  },
  {
   "cell_type": "code",
   "execution_count": 2,
   "metadata": {},
   "outputs": [],
   "source": [
    "import torch\n",
    "import torch.nn as nn\n",
    "import torch.nn.functional as F\n",
    "import torch.optim as optim\n",
    "import torchaudio\n",
    "import matplotlib.pyplot as plt"
   ]
  },
  {
   "cell_type": "code",
   "execution_count": 3,
   "metadata": {},
   "outputs": [],
   "source": [
    "x = torch.rand(1, 1, 1024) # (batch_size, n_channels, dim)\n",
    "y = torch.rand(1, 1, 1024)"
   ]
  },
  {
   "cell_type": "code",
   "execution_count": 4,
   "metadata": {},
   "outputs": [
    {
     "data": {
      "text/plain": [
       "tensor([[[0.4482, 0.8091, 0.5076,  ..., 0.2804, 0.7680, 0.2190]]])"
      ]
     },
     "execution_count": 4,
     "metadata": {},
     "output_type": "execute_result"
    }
   ],
   "source": [
    "x"
   ]
  },
  {
   "cell_type": "code",
   "execution_count": 5,
   "metadata": {},
   "outputs": [
    {
     "data": {
      "text/plain": [
       "tensor([[[0.5535, 0.6015, 0.7956,  ..., 0.2637, 0.0438, 0.8346]]])"
      ]
     },
     "execution_count": 5,
     "metadata": {},
     "output_type": "execute_result"
    }
   ],
   "source": [
    "y"
   ]
  },
  {
   "cell_type": "code",
   "execution_count": 6,
   "metadata": {
    "scrolled": true
   },
   "outputs": [],
   "source": [
    "z = torch.cat((x,y), 1)"
   ]
  },
  {
   "cell_type": "code",
   "execution_count": 7,
   "metadata": {
    "scrolled": true
   },
   "outputs": [
    {
     "data": {
      "text/plain": [
       "tensor([[[0.4482, 0.8091, 0.5076,  ..., 0.2804, 0.7680, 0.2190],\n",
       "         [0.5535, 0.6015, 0.7956,  ..., 0.2637, 0.0438, 0.8346]]])"
      ]
     },
     "execution_count": 7,
     "metadata": {},
     "output_type": "execute_result"
    }
   ],
   "source": [
    "z"
   ]
  },
  {
   "cell_type": "code",
   "execution_count": 8,
   "metadata": {},
   "outputs": [],
   "source": [
    "w = torch.rand(1, 4, 1024)"
   ]
  },
  {
   "cell_type": "code",
   "execution_count": 9,
   "metadata": {
    "scrolled": true
   },
   "outputs": [
    {
     "data": {
      "text/plain": [
       "tensor([[[0.5599, 0.9341, 0.7477,  ..., 0.7605, 0.0270, 0.2522],\n",
       "         [0.3813, 0.3598, 0.5604,  ..., 0.5575, 0.1808, 0.4337],\n",
       "         [0.7438, 0.5029, 0.5536,  ..., 0.1019, 0.6745, 0.5575],\n",
       "         [0.7155, 0.0688, 0.4105,  ..., 0.4623, 0.4390, 0.6918]]])"
      ]
     },
     "execution_count": 9,
     "metadata": {},
     "output_type": "execute_result"
    }
   ],
   "source": [
    "w"
   ]
  },
  {
   "cell_type": "markdown",
   "metadata": {},
   "source": [
    "### Subpixel operation"
   ]
  },
  {
   "cell_type": "code",
   "execution_count": 10,
   "metadata": {},
   "outputs": [],
   "source": [
    "# from https://gist.github.com/davidaknowles/6e95a643adaf3960d1648a6b369e9d0b\n",
    "def pixel_shuffle_1d(x, upscale_factor):\n",
    "    batch_size, channels, steps = x.size()\n",
    "    channels //= upscale_factor\n",
    "    input_view = x.contiguous().view(batch_size, channels, upscale_factor, steps)\n",
    "    shuffle_out = input_view.permute(0, 1, 3, 2).contiguous()\n",
    "    return shuffle_out.view(batch_size, channels, steps * upscale_factor)"
   ]
  },
  {
   "cell_type": "code",
   "execution_count": 11,
   "metadata": {},
   "outputs": [
    {
     "data": {
      "text/plain": [
       "tensor([[[0.4482, 0.5535, 0.8091,  ..., 0.0438, 0.2190, 0.8346]]])"
      ]
     },
     "execution_count": 11,
     "metadata": {},
     "output_type": "execute_result"
    }
   ],
   "source": [
    "pixel_shuffle_1d(z, 2)"
   ]
  },
  {
   "cell_type": "code",
   "execution_count": 12,
   "metadata": {
    "scrolled": true
   },
   "outputs": [
    {
     "data": {
      "text/plain": [
       "tensor([[[0.5599, 0.3813, 0.9341,  ..., 0.1808, 0.2522, 0.4337],\n",
       "         [0.7438, 0.7155, 0.5029,  ..., 0.4390, 0.5575, 0.6918]]])"
      ]
     },
     "execution_count": 12,
     "metadata": {},
     "output_type": "execute_result"
    }
   ],
   "source": [
    "pixel_shuffle_1d(w, 2)"
   ]
  },
  {
   "cell_type": "code",
   "execution_count": null,
   "metadata": {},
   "outputs": [],
   "source": []
  },
  {
   "cell_type": "markdown",
   "metadata": {},
   "source": [
    "### Generate base sizes and count for each level"
   ]
  },
  {
   "cell_type": "code",
   "execution_count": 13,
   "metadata": {},
   "outputs": [],
   "source": [
    "# this is what they implemented in their git project\n",
    "\n",
    "def get_sizes_for_layers(B):\n",
    "    n_channels = []\n",
    "    size_filters = []\n",
    "    #test = []\n",
    "    for b in range(1, B+1):\n",
    "        n_channels.append(min(2**(6 + b), 512)) # They wrote max in paper, but min in code\n",
    "        size_filters.append(max(2**(7-b) + 1, 9)) # They wrote min in paper, but max in code\n",
    "        #test.append(min(2**(7+(B-b+1)), 512))\n",
    "    \n",
    "    return n_channels, size_filters"
   ]
  },
  {
   "cell_type": "code",
   "execution_count": 14,
   "metadata": {},
   "outputs": [],
   "source": [
    "B = 4\n",
    "n_channels, size_filters = get_sizes_for_layers(B)"
   ]
  },
  {
   "cell_type": "code",
   "execution_count": 15,
   "metadata": {},
   "outputs": [
    {
     "data": {
      "text/plain": [
       "([128, 256, 512, 512], [65, 33, 17, 9])"
      ]
     },
     "execution_count": 15,
     "metadata": {},
     "output_type": "execute_result"
    }
   ],
   "source": [
    "n_channels, size_filters #Checking values"
   ]
  },
  {
   "cell_type": "markdown",
   "metadata": {},
   "source": [
    "### Generate correct parameters for up and down"
   ]
  },
  {
   "cell_type": "code",
   "execution_count": 16,
   "metadata": {},
   "outputs": [],
   "source": [
    "# The input channel count is equal to the the output channel count of the previous layer\n",
    "# Input will be all the channel counts, shifted to the right with a 1 before\n",
    "def args_down(n_channels, size_filters):\n",
    "    return zip([1] + n_channels[:-1], n_channels, size_filters)\n",
    "\n",
    "# Input filter count is the size of the bottlneck for the first up layer\n",
    "# And then it will be the count of the previous up layer, which is equal to twice the count of the down layer\n",
    "# (since we do some stacking with the skip connections)\n",
    "\n",
    "# Output filter count  will be twice the count of the down layer \n",
    "# so that after the subpixel we get the same count as in the down layer\n",
    "# and we can stack them together\n",
    "def args_up(n_channels, size_filters):\n",
    "    return zip([int(n_channels[-1]/2)] + n_channels[::-1][:-1], n_channels[::-1], size_filters[::-1])"
   ]
  },
  {
   "cell_type": "code",
   "execution_count": 17,
   "metadata": {},
   "outputs": [
    {
     "data": {
      "text/plain": [
       "[(1, 128, 65), (128, 256, 33), (256, 512, 17), (512, 512, 9)]"
      ]
     },
     "execution_count": 17,
     "metadata": {},
     "output_type": "execute_result"
    }
   ],
   "source": [
    "list(args_down(n_channels, size_filters))"
   ]
  },
  {
   "cell_type": "code",
   "execution_count": 18,
   "metadata": {},
   "outputs": [
    {
     "data": {
      "text/plain": [
       "[(256, 512, 9), (512, 512, 17), (512, 256, 33), (256, 128, 65)]"
      ]
     },
     "execution_count": 18,
     "metadata": {},
     "output_type": "execute_result"
    }
   ],
   "source": [
    "list(args_up(n_channels, size_filters))"
   ]
  },
  {
   "cell_type": "markdown",
   "metadata": {},
   "source": [
    "#### And if we use the arguments, we get the same parameters as the manually defined ones"
   ]
  },
  {
   "cell_type": "code",
   "execution_count": 19,
   "metadata": {
    "scrolled": true
   },
   "outputs": [
    {
     "name": "stdout",
     "output_type": "stream",
     "text": [
      "1 128 65\n",
      "128 256 33\n",
      "256 512 17\n",
      "512 512 9\n",
      "512 9\n",
      "512 1024 9\n",
      "1024 1024 17\n",
      "1024 512 33\n",
      "512 256 65\n",
      "256 9\n"
     ]
    }
   ],
   "source": [
    "for n_ch_in, n_ch_out, size in args_down(n_channels, size_filters):\n",
    "    print(n_ch_in, n_ch_out, size)\n",
    "print(n_channels[-1], size_filters[-1])\n",
    "            \n",
    "for n_ch_in, n_ch_out, size in args_up(n_channels, size_filters):\n",
    "    print(n_ch_in*2, n_ch_out*2, size)\n",
    "                                            \n",
    "print(n_channels[0]*2, 9)"
   ]
  },
  {
   "cell_type": "markdown",
   "metadata": {},
   "source": [
    "## Neural Network architecture"
   ]
  },
  {
   "cell_type": "code",
   "execution_count": 20,
   "metadata": {},
   "outputs": [],
   "source": [
    "class Subpixel(nn.Module):\n",
    "    def __init__(self):\n",
    "        super(Subpixel, self).__init__()\n",
    "           \n",
    "    def forward(self, x):\n",
    "        y = pixel_shuffle_1d(x, 2)\n",
    "        return y"
   ]
  },
  {
   "cell_type": "code",
   "execution_count": 21,
   "metadata": {},
   "outputs": [],
   "source": [
    "class Concat(nn.Module):\n",
    "    def __init__(self):\n",
    "        super(Concat, self).__init__()\n",
    "           \n",
    "        \n",
    "    def forward(self, x1, x2):\n",
    "        y = torch.cat((x1, x2), 1) # concat on dim 1 (channel dimension)\n",
    "        return y"
   ]
  },
  {
   "cell_type": "code",
   "execution_count": 22,
   "metadata": {},
   "outputs": [],
   "source": [
    "class Add(nn.Module):\n",
    "    def __init__(self):\n",
    "        super(Add, self).__init__()\n",
    "           \n",
    "        \n",
    "    def forward(self, x1, x2):\n",
    "        y = torch.add(x1, x2)\n",
    "        return y"
   ]
  },
  {
   "cell_type": "code",
   "execution_count": 23,
   "metadata": {},
   "outputs": [],
   "source": [
    "class Downsampling(nn.Module):\n",
    "    \n",
    "    def __init__(self, in_ch, out_ch, size, verbose=0):\n",
    "        super(Downsampling, self).__init__()\n",
    "        self.verbose = verbose\n",
    "        \n",
    "        self.conv = nn.Sequential(\n",
    "            # We need a padding mode = same to get the same behavior as the paper\n",
    "            # But it doesn't seem to exist in pytorch\n",
    "            nn.Conv1d(in_channels=in_ch, out_channels=out_ch, kernel_size=size, stride=2, padding_mode='zeros', padding=int((size-1)/2)), \n",
    "            nn.LeakyReLU(0.2)\n",
    "        )\n",
    "        \n",
    "    def forward(self, x):\n",
    "        if self.verbose: print(\"Before conv down : \" + str(x.size()))\n",
    "        y = self.conv(x)\n",
    "        if self.verbose: print(\"After conv down : \" + str(y.size()))\n",
    "        return y"
   ]
  },
  {
   "cell_type": "code",
   "execution_count": 24,
   "metadata": {},
   "outputs": [],
   "source": [
    "class Bottleneck(nn.Module):\n",
    "    def __init__(self, ch, size, verbose=0):\n",
    "        super(Bottleneck, self).__init__()\n",
    "        self.verbose = verbose\n",
    "        self.conv = nn.Sequential(\n",
    "            # We need a padding mode = same to get the same behavior as the paper\n",
    "            # But it doesn't seem to exist in pytorch\n",
    "            nn.Conv1d(in_channels=ch, out_channels=ch, kernel_size=size, stride=2, padding_mode='zeros', padding = int((size-1)/2)), \n",
    "            nn.Dropout(0.5),\n",
    "            nn.LeakyReLU(0.2)\n",
    "        )\n",
    "        \n",
    "    def forward(self, x):\n",
    "        if self.verbose: print(\"Bottleneck before: \" + str(x.size()))\n",
    "        y = self.conv(x)\n",
    "        if self.verbose: print(\"Bottleneck after: \" + str(y.size()))\n",
    "        return y"
   ]
  },
  {
   "cell_type": "code",
   "execution_count": 25,
   "metadata": {},
   "outputs": [],
   "source": [
    "class Upsampling(nn.Module):\n",
    "    def __init__(self, in_ch, out_ch, size, verbose=0):\n",
    "        super(Upsampling, self).__init__()\n",
    "        self.verbose = verbose\n",
    "        self.conv = nn.Sequential(\n",
    "            # We need a padding mode = same to get the same behavior as the paper\n",
    "            # But it doesn't seem to exist in pytorch\n",
    "            nn.Conv1d(in_channels=in_ch, out_channels=out_ch, kernel_size=size, stride=1, padding_mode='zeros', padding = int((size-1)/2)),\n",
    "            nn.Dropout(p=0.5),\n",
    "            nn.ReLU()\n",
    "        )\n",
    "        self.subpixel = Subpixel()\n",
    "        self.concat = Concat()\n",
    "        \n",
    "    def forward(self, x1, x2):\n",
    "        if self.verbose: print(\"Upsampling before: \" + str(x1.size()))\n",
    "        y = self.conv(x1)\n",
    "        if self.verbose: print(\"Upsampling conv: \" + str(y.size()))\n",
    "        y = self.subpixel(y)\n",
    "        if self.verbose: print(\"Upsampling subpixel: \" + str(y.size()))\n",
    "        y = self.concat(y, x2)\n",
    "        if self.verbose: print(\"Upsampling concat: \" + str(y.size()))\n",
    "        return y"
   ]
  },
  {
   "cell_type": "code",
   "execution_count": 26,
   "metadata": {},
   "outputs": [],
   "source": [
    "class LastConv(nn.Module):\n",
    "    def __init__(self, in_ch, size, verbose=0):\n",
    "        super(LastConv, self).__init__()\n",
    "        self.verbose = verbose\n",
    "        self.conv = nn.Conv1d(in_channels=in_ch, out_channels=2, kernel_size=9, stride=1, padding_mode='zeros', padding = int((size-1)/2))\n",
    "        self.subpixel = Subpixel()\n",
    "        self.add = Add()\n",
    "           \n",
    "        \n",
    "    def forward(self, x1, x2):\n",
    "        if self.verbose: print(\"Final before: \" + str(x1.size()))\n",
    "        y = self.conv(x1)\n",
    "        if self.verbose: print(\"Final conv: \" + str(y.size()))\n",
    "        y = self.subpixel(y)\n",
    "        if self.verbose: print(\"Final subpixel: \" + str(y.size()))\n",
    "        y = self.add(y, x2)\n",
    "        if self.verbose: print(\"Final add: \" + str(y.size()))\n",
    "        return y"
   ]
  },
  {
   "cell_type": "code",
   "execution_count": 27,
   "metadata": {},
   "outputs": [],
   "source": [
    "class Net(nn.Module):\n",
    "\n",
    "    def __init__(self, depth, verbose=0):\n",
    "        super(Net, self).__init__()\n",
    "        self.verbose = verbose\n",
    "        \n",
    "        \n",
    "        \n",
    "        # Manual definition\n",
    "        \n",
    "        \n",
    "        #B = 4\n",
    "        #n_channels= [128, 256, 512, 512] # max(2^(6+b), 512) \n",
    "        #size_filters = [65, 33, 17, 9] # min(2^(7−b) + 1, 9)\n",
    "        \n",
    "        #self.down1 = Downsampling(1, 128, 63)\n",
    "        #self.down2 = Downsampling(128, 256, 33)\n",
    "        #self.down3 = Downsampling(256, 512, 17)\n",
    "        #self.down4 = Downsampling(512, 512, 9)\n",
    "        #self.bottleneck = Bottleneck(512, 9)\n",
    "        #self.up1 = Upsampling(int((512/2)*2), 512*2, 9)\n",
    "        #self.up2 = Upsampling(512*2, 512*2, 17)\n",
    "        #self.up3 = Upsampling(512*2, 256*2, 33)\n",
    "        #self.up4 = Upsampling(256*2, 128*2, 63)\n",
    "        #self.last = LastConv(128*2, 9)\n",
    "\n",
    "        \n",
    "        # Automatic definition, seems to work :\n",
    "        \n",
    "        B = depth\n",
    "        n_channels, size_filters = get_sizes_for_layers(B)\n",
    "        \n",
    "        # Downsampling\n",
    "        self.down = []\n",
    "        for n_ch_in, n_ch_out, size in args_down(n_channels, size_filters):\n",
    "            self.down.append(Downsampling(n_ch_in, n_ch_out, size, verbose))\n",
    "            \n",
    "        # Bottlneck\n",
    "        self.bottleneck = Bottleneck(n_channels[-1], size_filters[-1], verbose)\n",
    "        \n",
    "        # Upsampling\n",
    "        self.up = []\n",
    "        for n_ch_in, n_ch_out, size in args_up(n_channels, size_filters):\n",
    "            self.up.append(Upsampling(n_ch_in*2, n_ch_out*2, size, verbose))\n",
    "              \n",
    "        # Final layer\n",
    "        self.last = LastConv(n_channels[0]*2, 9, verbose)\n",
    "        \n",
    "        \n",
    "        \n",
    "\n",
    "    def forward(self, x):\n",
    "\n",
    "        # Manual \n",
    "        \n",
    "        #x1 = self.down1(x)\n",
    "        #x2 = self.down2(x1)\n",
    "        #x3 = self.down3(x2)\n",
    "        #x4 = self.down4(x3)\n",
    "        #b = self.bottleneck(x4)\n",
    "        #y = self.up1(b, x4)\n",
    "        #y = self.up2(y, x3)\n",
    "        #y = self.up3(y, x2)\n",
    "        #y = self.up4(y, x1)\n",
    "        #y = self.last(y, x)\n",
    "        \n",
    "        # Automatic\n",
    "        \n",
    "        # Downsampling\n",
    "        down_out = []\n",
    "        xi = x\n",
    "        for i in range(len(self.down)):\n",
    "            xi = self.down[i](xi)\n",
    "            down_out.append(xi)\n",
    "            \n",
    "        # Bottleneck\n",
    "        b = self.bottleneck(xi)\n",
    "        \n",
    "        # Upsampling\n",
    "        y = b\n",
    "        for i in range(len(self.up)):\n",
    "            y = self.up[i](y, down_out[-(i+1)])\n",
    "            \n",
    "        # Final layer\n",
    "        y = self.last(y, x)\n",
    "       \n",
    "        return y\n",
    "    \n",
    "\n",
    "#print(net)"
   ]
  },
  {
   "cell_type": "code",
   "execution_count": 28,
   "metadata": {},
   "outputs": [
    {
     "name": "stdout",
     "output_type": "stream",
     "text": [
      "input : tensor([[[-0.8816,  0.2679,  0.4385,  ...,  0.9327, -0.6887,  0.9385]]],\n",
      "       requires_grad=True)\n",
      "Before conv down : torch.Size([1, 1, 2048])\n",
      "After conv down : torch.Size([1, 128, 1024])\n",
      "Before conv down : torch.Size([1, 128, 1024])\n",
      "After conv down : torch.Size([1, 256, 512])\n",
      "Before conv down : torch.Size([1, 256, 512])\n",
      "After conv down : torch.Size([1, 512, 256])\n",
      "Before conv down : torch.Size([1, 512, 256])\n",
      "After conv down : torch.Size([1, 512, 128])\n",
      "Before conv down : torch.Size([1, 512, 128])\n",
      "After conv down : torch.Size([1, 512, 64])\n",
      "Before conv down : torch.Size([1, 512, 64])\n",
      "After conv down : torch.Size([1, 512, 32])\n",
      "Before conv down : torch.Size([1, 512, 32])\n",
      "After conv down : torch.Size([1, 512, 16])\n",
      "Before conv down : torch.Size([1, 512, 16])\n",
      "After conv down : torch.Size([1, 512, 8])\n",
      "Bottleneck before: torch.Size([1, 512, 8])\n",
      "Bottleneck after: torch.Size([1, 512, 4])\n",
      "Upsampling before: torch.Size([1, 512, 4])\n",
      "Upsampling conv: torch.Size([1, 1024, 4])\n",
      "Upsampling subpixel: torch.Size([1, 512, 8])\n",
      "Upsampling concat: torch.Size([1, 1024, 8])\n",
      "Upsampling before: torch.Size([1, 1024, 8])\n",
      "Upsampling conv: torch.Size([1, 1024, 8])\n",
      "Upsampling subpixel: torch.Size([1, 512, 16])\n",
      "Upsampling concat: torch.Size([1, 1024, 16])\n",
      "Upsampling before: torch.Size([1, 1024, 16])\n",
      "Upsampling conv: torch.Size([1, 1024, 16])\n",
      "Upsampling subpixel: torch.Size([1, 512, 32])\n",
      "Upsampling concat: torch.Size([1, 1024, 32])\n",
      "Upsampling before: torch.Size([1, 1024, 32])\n",
      "Upsampling conv: torch.Size([1, 1024, 32])\n",
      "Upsampling subpixel: torch.Size([1, 512, 64])\n",
      "Upsampling concat: torch.Size([1, 1024, 64])\n",
      "Upsampling before: torch.Size([1, 1024, 64])\n",
      "Upsampling conv: torch.Size([1, 1024, 64])\n",
      "Upsampling subpixel: torch.Size([1, 512, 128])\n",
      "Upsampling concat: torch.Size([1, 1024, 128])\n",
      "Upsampling before: torch.Size([1, 1024, 128])\n",
      "Upsampling conv: torch.Size([1, 1024, 128])\n",
      "Upsampling subpixel: torch.Size([1, 512, 256])\n",
      "Upsampling concat: torch.Size([1, 1024, 256])\n",
      "Upsampling before: torch.Size([1, 1024, 256])\n",
      "Upsampling conv: torch.Size([1, 512, 256])\n",
      "Upsampling subpixel: torch.Size([1, 256, 512])\n",
      "Upsampling concat: torch.Size([1, 512, 512])\n",
      "Upsampling before: torch.Size([1, 512, 512])\n",
      "Upsampling conv: torch.Size([1, 256, 512])\n",
      "Upsampling subpixel: torch.Size([1, 128, 1024])\n",
      "Upsampling concat: torch.Size([1, 256, 1024])\n",
      "Final before: torch.Size([1, 256, 1024])\n",
      "Final conv: torch.Size([1, 2, 1024])\n",
      "Final subpixel: torch.Size([1, 1, 2048])\n",
      "Final add: torch.Size([1, 1, 2048])\n",
      "outputtensor([[[-0.5927,  0.2240,  0.3652,  ...,  0.8966, -0.5598,  0.8759]]],\n",
      "       grad_fn=<AddBackward0>)\n"
     ]
    }
   ],
   "source": [
    "# Warning : Depth must be < log(input size) if input is a power of 2\n",
    "# Otherwise this limit is lower : D  = max (i) s.t. inputsize/2^i is integer\n",
    "\n",
    "net = Net(8, verbose = 1)\n",
    "INPUT_SIZE = 2048\n",
    "\n",
    "input = torch.randn(1, 1, INPUT_SIZE, requires_grad=True)\n",
    "print(\"input : \" + str(input))\n",
    "out = net(input)\n",
    "print(\"output\" + str(out))\n"
   ]
  },
  {
   "cell_type": "code",
   "execution_count": 29,
   "metadata": {},
   "outputs": [
    {
     "name": "stdout",
     "output_type": "stream",
     "text": [
      "Before conv down : torch.Size([1, 1, 2048])\n",
      "After conv down : torch.Size([1, 128, 1024])\n",
      "Before conv down : torch.Size([1, 128, 1024])\n",
      "After conv down : torch.Size([1, 256, 512])\n",
      "Before conv down : torch.Size([1, 256, 512])\n",
      "After conv down : torch.Size([1, 512, 256])\n",
      "Before conv down : torch.Size([1, 512, 256])\n",
      "After conv down : torch.Size([1, 512, 128])\n",
      "Before conv down : torch.Size([1, 512, 128])\n",
      "After conv down : torch.Size([1, 512, 64])\n",
      "Before conv down : torch.Size([1, 512, 64])\n",
      "After conv down : torch.Size([1, 512, 32])\n",
      "Before conv down : torch.Size([1, 512, 32])\n",
      "After conv down : torch.Size([1, 512, 16])\n",
      "Before conv down : torch.Size([1, 512, 16])\n",
      "After conv down : torch.Size([1, 512, 8])\n",
      "Bottleneck before: torch.Size([1, 512, 8])\n",
      "Bottleneck after: torch.Size([1, 512, 4])\n",
      "Upsampling before: torch.Size([1, 512, 4])\n",
      "Upsampling conv: torch.Size([1, 1024, 4])\n",
      "Upsampling subpixel: torch.Size([1, 512, 8])\n",
      "Upsampling concat: torch.Size([1, 1024, 8])\n",
      "Upsampling before: torch.Size([1, 1024, 8])\n",
      "Upsampling conv: torch.Size([1, 1024, 8])\n",
      "Upsampling subpixel: torch.Size([1, 512, 16])\n",
      "Upsampling concat: torch.Size([1, 1024, 16])\n",
      "Upsampling before: torch.Size([1, 1024, 16])\n",
      "Upsampling conv: torch.Size([1, 1024, 16])\n",
      "Upsampling subpixel: torch.Size([1, 512, 32])\n",
      "Upsampling concat: torch.Size([1, 1024, 32])\n",
      "Upsampling before: torch.Size([1, 1024, 32])\n",
      "Upsampling conv: torch.Size([1, 1024, 32])\n",
      "Upsampling subpixel: torch.Size([1, 512, 64])\n",
      "Upsampling concat: torch.Size([1, 1024, 64])\n",
      "Upsampling before: torch.Size([1, 1024, 64])\n",
      "Upsampling conv: torch.Size([1, 1024, 64])\n",
      "Upsampling subpixel: torch.Size([1, 512, 128])\n",
      "Upsampling concat: torch.Size([1, 1024, 128])\n",
      "Upsampling before: torch.Size([1, 1024, 128])\n",
      "Upsampling conv: torch.Size([1, 1024, 128])\n",
      "Upsampling subpixel: torch.Size([1, 512, 256])\n",
      "Upsampling concat: torch.Size([1, 1024, 256])\n",
      "Upsampling before: torch.Size([1, 1024, 256])\n",
      "Upsampling conv: torch.Size([1, 512, 256])\n",
      "Upsampling subpixel: torch.Size([1, 256, 512])\n",
      "Upsampling concat: torch.Size([1, 512, 512])\n",
      "Upsampling before: torch.Size([1, 512, 512])\n",
      "Upsampling conv: torch.Size([1, 256, 512])\n",
      "Upsampling subpixel: torch.Size([1, 128, 1024])\n",
      "Upsampling concat: torch.Size([1, 256, 1024])\n",
      "Final before: torch.Size([1, 256, 1024])\n",
      "Final conv: torch.Size([1, 2, 1024])\n",
      "Final subpixel: torch.Size([1, 1, 2048])\n",
      "Final add: torch.Size([1, 1, 2048])\n"
     ]
    }
   ],
   "source": [
    "criterion = nn.MSELoss()\n",
    "optimizer = optim.Adam(net.parameters(), lr=0.0001)\n",
    "\n",
    "# in your training loop:\n",
    "\n",
    "#print(list(net.parameters()))\n",
    "\n",
    "optimizer.zero_grad()   # zero the gradient buffers\n",
    "out = net(input)\n",
    "loss = criterion(out, torch.randn(1, 1, INPUT_SIZE))\n",
    "loss.backward()\n",
    "optimizer.step()  \n",
    "\n",
    "#print(list(net.parameters())) # We can check that the parameters have changed."
   ]
  },
  {
   "cell_type": "code",
   "execution_count": 30,
   "metadata": {},
   "outputs": [
    {
     "name": "stdout",
     "output_type": "stream",
     "text": [
      "input : tensor([[[-0.8816,  0.2679,  0.4385,  ...,  0.9327, -0.6887,  0.9385]]],\n",
      "       requires_grad=True)\n",
      "Before conv down : torch.Size([1, 1, 2048])\n",
      "After conv down : torch.Size([1, 128, 1024])\n",
      "Before conv down : torch.Size([1, 128, 1024])\n",
      "After conv down : torch.Size([1, 256, 512])\n",
      "Before conv down : torch.Size([1, 256, 512])\n",
      "After conv down : torch.Size([1, 512, 256])\n",
      "Before conv down : torch.Size([1, 512, 256])\n",
      "After conv down : torch.Size([1, 512, 128])\n",
      "Before conv down : torch.Size([1, 512, 128])\n",
      "After conv down : torch.Size([1, 512, 64])\n",
      "Before conv down : torch.Size([1, 512, 64])\n",
      "After conv down : torch.Size([1, 512, 32])\n",
      "Before conv down : torch.Size([1, 512, 32])\n",
      "After conv down : torch.Size([1, 512, 16])\n",
      "Before conv down : torch.Size([1, 512, 16])\n",
      "After conv down : torch.Size([1, 512, 8])\n",
      "Bottleneck before: torch.Size([1, 512, 8])\n",
      "Bottleneck after: torch.Size([1, 512, 4])\n",
      "Upsampling before: torch.Size([1, 512, 4])\n",
      "Upsampling conv: torch.Size([1, 1024, 4])\n",
      "Upsampling subpixel: torch.Size([1, 512, 8])\n",
      "Upsampling concat: torch.Size([1, 1024, 8])\n",
      "Upsampling before: torch.Size([1, 1024, 8])\n",
      "Upsampling conv: torch.Size([1, 1024, 8])\n",
      "Upsampling subpixel: torch.Size([1, 512, 16])\n",
      "Upsampling concat: torch.Size([1, 1024, 16])\n",
      "Upsampling before: torch.Size([1, 1024, 16])\n",
      "Upsampling conv: torch.Size([1, 1024, 16])\n",
      "Upsampling subpixel: torch.Size([1, 512, 32])\n",
      "Upsampling concat: torch.Size([1, 1024, 32])\n",
      "Upsampling before: torch.Size([1, 1024, 32])\n",
      "Upsampling conv: torch.Size([1, 1024, 32])\n",
      "Upsampling subpixel: torch.Size([1, 512, 64])\n",
      "Upsampling concat: torch.Size([1, 1024, 64])\n",
      "Upsampling before: torch.Size([1, 1024, 64])\n",
      "Upsampling conv: torch.Size([1, 1024, 64])\n",
      "Upsampling subpixel: torch.Size([1, 512, 128])\n",
      "Upsampling concat: torch.Size([1, 1024, 128])\n",
      "Upsampling before: torch.Size([1, 1024, 128])\n",
      "Upsampling conv: torch.Size([1, 1024, 128])\n",
      "Upsampling subpixel: torch.Size([1, 512, 256])\n",
      "Upsampling concat: torch.Size([1, 1024, 256])\n",
      "Upsampling before: torch.Size([1, 1024, 256])\n",
      "Upsampling conv: torch.Size([1, 512, 256])\n",
      "Upsampling subpixel: torch.Size([1, 256, 512])\n",
      "Upsampling concat: torch.Size([1, 512, 512])\n",
      "Upsampling before: torch.Size([1, 512, 512])\n",
      "Upsampling conv: torch.Size([1, 256, 512])\n",
      "Upsampling subpixel: torch.Size([1, 128, 1024])\n",
      "Upsampling concat: torch.Size([1, 256, 1024])\n",
      "Final before: torch.Size([1, 256, 1024])\n",
      "Final conv: torch.Size([1, 2, 1024])\n",
      "Final subpixel: torch.Size([1, 1, 2048])\n",
      "Final add: torch.Size([1, 1, 2048])\n",
      "outputtensor([[[-0.5899,  0.2377,  0.3918,  ...,  0.8815, -0.5472,  0.8814]]],\n",
      "       grad_fn=<AddBackward0>)\n"
     ]
    }
   ],
   "source": [
    "print(\"input : \" + str(input))\n",
    "out = net(input)\n",
    "print(\"output\" + str(out))"
   ]
  },
  {
   "cell_type": "code",
   "execution_count": 31,
   "metadata": {},
   "outputs": [],
   "source": [
    "filename = \"/mnt/Data/maestro-v2.0.0/2004/MIDI-Unprocessed_SMF_02_R1_2004_01-05_ORIG_MID--AUDIO_02_R1_2004_05_Track05_wav.wav\"\n",
    "waveform, sample_rate = torchaudio.load(filename)"
   ]
  },
  {
   "cell_type": "code",
   "execution_count": 32,
   "metadata": {},
   "outputs": [
    {
     "data": {
      "text/plain": [
       "[<matplotlib.lines.Line2D at 0x7efb78866090>]"
      ]
     },
     "execution_count": 32,
     "metadata": {},
     "output_type": "execute_result"
    },
    {
     "data": {
      "image/png": "[encoded data removed]",
      "text/plain": [
       "<Figure size 432x288 with 1 Axes>"
      ]
     },
     "metadata": {
      "needs_background": "light"
     },
     "output_type": "display_data"
    }
   ],
   "source": [
    "plt.figure()\n",
    "plt.plot(waveform[0,:].numpy())"
   ]
  },
  {
   "cell_type": "code",
   "execution_count": 33,
   "metadata": {},
   "outputs": [
    {
     "name": "stdout",
     "output_type": "stream",
     "text": [
      "Shape of transformed waveform: torch.Size([1, 10690011])\n"
     ]
    },
    {
     "data": {
      "text/plain": [
       "[<matplotlib.lines.Line2D at 0x7efb78708150>]"
      ]
     },
     "execution_count": 33,
     "metadata": {},
     "output_type": "execute_result"
    },
    {
     "data": {
      "image/png": "[encoded data removed]",
      "text/plain": [
       "<Figure size 432x288 with 1 Axes>"
      ]
     },
     "metadata": {
      "needs_background": "light"
     },
     "output_type": "display_data"
    },
    {
     "data": {
      "image/png": "[encoded data removed]",
      "text/plain": [
       "<Figure size 432x288 with 1 Axes>"
      ]
     },
     "metadata": {
      "needs_background": "light"
     },
     "output_type": "display_data"
    }
   ],
   "source": [
    "new_sample_rate = sample_rate/4\n",
    "\n",
    "# Since Resample applies to a single channel, we resample first channel here\n",
    "channel = 0\n",
    "transformed0 = torchaudio.transforms.Resample(sample_rate, new_sample_rate)(waveform[0,:].view(1,-1))\n",
    "transformed1 = torchaudio.transforms.Resample(sample_rate, new_sample_rate)(waveform[1,:].view(1,-1))\n",
    "\n",
    "print(\"Shape of transformed waveform: {}\".format(transformed0.size()))\n",
    "\n",
    "plt.figure()\n",
    "plt.plot(transformed0[0,:].numpy())\n",
    "plt.figure()\n",
    "plt.plot(transformed1[0,:].numpy())"
   ]
  },
  {
   "cell_type": "code",
   "execution_count": 34,
   "metadata": {},
   "outputs": [],
   "source": [
    "out = torch.cat((transformed0, transformed1), 0)"
   ]
  },
  {
   "cell_type": "code",
   "execution_count": 35,
   "metadata": {},
   "outputs": [],
   "source": [
    "torchaudio.save(\"/mnt/Data/maestro-v2.0.0/out.mp3\", out, new_sample_rate, precision=16, channels_first=True)"
   ]
  },
  {
   "cell_type": "code",
   "execution_count": null,
   "metadata": {},
   "outputs": [],
   "source": []
  }
 ],
 "metadata": {
  "kernelspec": {
   "display_name": "Python 3",
   "language": "python",
   "name": "python3"
  },
  "language_info": {
   "codemirror_mode": {
    "name": "ipython",
    "version": 3
   },
   "file_extension": ".py",
   "mimetype": "text/x-python",
   "name": "python",
   "nbconvert_exporter": "python",
   "pygments_lexer": "ipython3",
   "version": "3.7.4"
  }
 },
 "nbformat": 4,
 "nbformat_minor": 4
}
