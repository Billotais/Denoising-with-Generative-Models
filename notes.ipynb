{
 "cells": [
  {
   "cell_type": "markdown",
   "metadata": {},
   "source": [
    "# Denoising with generative models"
   ]
  },
  {
   "cell_type": "markdown",
   "metadata": {},
   "source": [
    "## Pytorch tests"
   ]
  },
  {
   "cell_type": "code",
   "execution_count": 1,
   "metadata": {},
   "outputs": [],
   "source": [
    "import torch\n",
    "import torch.nn as nn\n",
    "import torch.nn.functional as F"
   ]
  },
  {
   "cell_type": "code",
   "execution_count": 10,
   "metadata": {},
   "outputs": [],
   "source": [
    "class Downsampling(nn.Module):\n",
    "    \n",
    "    def __init__(self, in_ch, out_ch, size):\n",
    "        super(Downsampling, self).__init__()\n",
    "        \n",
    "        self.conv = nn.Sequential(\n",
    "            # We need a padding mode = same to get the same behavior as the paper\n",
    "            # But it doesn't seem to exist in pytorch\n",
    "            nn.Conv1d(in_channels=in_ch, out_channels=out_ch, kernel_size=size, stride=2, padding_mode='zeros'), \n",
    "            nn.LeakyReLU(0.2)\n",
    "        )\n",
    "        \n",
    "    def forward(self, x):\n",
    "        y = self.conv(x)\n",
    "        return y"
   ]
  },
  {
   "cell_type": "code",
   "execution_count": 16,
   "metadata": {},
   "outputs": [],
   "source": [
    "class Bottleneck(nn.Module):\n",
    "    def __init__(self, ch, size):\n",
    "        super(Bottleneck, self).__init__()\n",
    "        self.conv = nn.Sequential(\n",
    "            # We need a padding mode = same to get the same behavior as the paper\n",
    "            # But it doesn't seem to exist in pytorch\n",
    "            nn.Conv1d(in_channels=ch, out_channels=ch, kernel_size=size, stride=2, padding_mode='zeros'), \n",
    "            nn.Dropout(0.5),\n",
    "            nn.LeakyReLU(0.2)\n",
    "        )\n",
    "        \n",
    "    def forward(self, x):\n",
    "        y = self.conv(x)\n",
    "        return y"
   ]
  },
  {
   "cell_type": "code",
   "execution_count": 17,
   "metadata": {},
   "outputs": [],
   "source": [
    "class Upsampling(nn.Module):\n",
    "    def __init__(self, in_ch, out_ch, size):\n",
    "        super(Upsampling, self).__init__()\n",
    "        self.conv = nn.Sequential(\n",
    "            # We need a padding mode = same to get the same behavior as the paper\n",
    "            # But it doesn't seem to exist in pytorch\n",
    "            nn.Conv1d(in_channels=in_ch, out_channels=out_ch, kernel_size=size, stride=1, padding_mode='zeros'),\n",
    "            nn.Dropout(p=0.5),\n",
    "            nn.ReLU()\n",
    "        )\n",
    "    def forward(self, x1, x2):\n",
    "        y = self.conv(x1)\n",
    "        y = subpixel(y)\n",
    "        y = concat(y, x2)\n",
    "        return y"
   ]
  },
  {
   "cell_type": "code",
   "execution_count": 18,
   "metadata": {},
   "outputs": [],
   "source": [
    "class LastConv(nn.Module):\n",
    "    def __init__(self, in_ch, size):\n",
    "        super(LastConv, self).__init__()\n",
    "        self.conv = nn.Conv1d(in_channels=in_ch, out_channels=2, kernel_size=9, stride=1, padding_mode='zeros')\n",
    "           \n",
    "        \n",
    "    def forward(self, x1, x2):\n",
    "        y = self.conv(x1)\n",
    "        y = subpixel(y)\n",
    "        return y"
   ]
  },
  {
   "cell_type": "code",
   "execution_count": 19,
   "metadata": {
    "scrolled": true
   },
   "outputs": [
    {
     "ename": "NameError",
     "evalue": "name 'get_sizes_for_layers' is not defined",
     "output_type": "error",
     "traceback": [
      "\u001b[0;31m---------------------------------------------------------------------------\u001b[0m",
      "\u001b[0;31mNameError\u001b[0m                                 Traceback (most recent call last)",
      "\u001b[0;32m<ipython-input-19-ed24582643b3>\u001b[0m in \u001b[0;36m<module>\u001b[0;34m\u001b[0m\n\u001b[1;32m     51\u001b[0m         \u001b[0;32mreturn\u001b[0m \u001b[0my\u001b[0m\u001b[0;34m\u001b[0m\u001b[0;34m\u001b[0m\u001b[0m\n\u001b[1;32m     52\u001b[0m \u001b[0;34m\u001b[0m\u001b[0m\n\u001b[0;32m---> 53\u001b[0;31m \u001b[0mnet\u001b[0m \u001b[0;34m=\u001b[0m \u001b[0mNet\u001b[0m\u001b[0;34m(\u001b[0m\u001b[0;36m4\u001b[0m\u001b[0;34m)\u001b[0m\u001b[0;34m\u001b[0m\u001b[0;34m\u001b[0m\u001b[0m\n\u001b[0m\u001b[1;32m     54\u001b[0m \u001b[0;31m#print(net)\u001b[0m\u001b[0;34m\u001b[0m\u001b[0;34m\u001b[0m\u001b[0;34m\u001b[0m\u001b[0m\n",
      "\u001b[0;32m<ipython-input-19-ed24582643b3>\u001b[0m in \u001b[0;36m__init__\u001b[0;34m(self, depth)\u001b[0m\n\u001b[1;32m     25\u001b[0m         \u001b[0mB\u001b[0m \u001b[0;34m=\u001b[0m \u001b[0mdepth\u001b[0m\u001b[0;34m\u001b[0m\u001b[0;34m\u001b[0m\u001b[0m\n\u001b[1;32m     26\u001b[0m \u001b[0;34m\u001b[0m\u001b[0m\n\u001b[0;32m---> 27\u001b[0;31m         \u001b[0mn_channels\u001b[0m\u001b[0;34m,\u001b[0m \u001b[0msize_filters\u001b[0m \u001b[0;34m=\u001b[0m \u001b[0mget_sizes_for_layers\u001b[0m\u001b[0;34m(\u001b[0m\u001b[0mB\u001b[0m\u001b[0;34m)\u001b[0m\u001b[0;34m\u001b[0m\u001b[0;34m\u001b[0m\u001b[0m\n\u001b[0m\u001b[1;32m     28\u001b[0m \u001b[0;34m\u001b[0m\u001b[0m\n\u001b[1;32m     29\u001b[0m         \u001b[0mself\u001b[0m\u001b[0;34m.\u001b[0m\u001b[0mdown\u001b[0m \u001b[0;34m=\u001b[0m \u001b[0;34m[\u001b[0m\u001b[0;34m]\u001b[0m\u001b[0;34m\u001b[0m\u001b[0;34m\u001b[0m\u001b[0m\n",
      "\u001b[0;31mNameError\u001b[0m: name 'get_sizes_for_layers' is not defined"
     ]
    }
   ],
   "source": [
    "class Net(nn.Module):\n",
    "\n",
    "    def __init__(self, depth):\n",
    "        super(Net, self).__init__()\n",
    "        # input = 1024\n",
    "        B = 4\n",
    "        n_channels= [128, 256, 512, 512] # max(2^(6+b), 512) \n",
    "        size_filters = [65, 33, 17, 9] # min(2^(7−b) + 1, 9)\n",
    "        \n",
    "        \n",
    "        # Manual definition\n",
    "        self.down1 = Downsampling(1, 128, 63)\n",
    "        self.down2 = Downsampling(128, 256, 33)\n",
    "        self.down3 = Downsampling(256, 512, 17)\n",
    "        self.down4 = Downsampling(512, 512, 9)\n",
    "        self.bottleneck = Bottleneck(512, 9)\n",
    "        self.up1 = Upsampling(512, 512*2, 9)\n",
    "        self.up2 = Upsampling(512*2, 512*2, 17)\n",
    "        self.up3 = Upsampling(512*2, 256*2, 33)\n",
    "        self.up4 = Upsampling(256*2, 128*2, 63)\n",
    "        self.last = LastConv(128*2, 9)\n",
    "\n",
    "        \n",
    "        # Automatic definition, seems to work :\n",
    "        \n",
    "        B = depth\n",
    "        \n",
    "        n_channels, size_filters = get_sizes_for_layers(B)\n",
    "        \n",
    "        self.down = []\n",
    "        # The input channel count is equal to the the output channel count of the previous layer\n",
    "        # Input will be all the channel counts, shifted to the right with a 1 before\n",
    "        for n_ch_in, n_ch_out, size in zip([1] + n_channels[:-1], n_channels, size_filters):\n",
    "            self.down.append(Downsampling(n_ch_in, n_ch_out, size))\n",
    "            \n",
    "        self.bottleneck = Bottleneckleneck(n_channels[-1], size_filters[-1])\n",
    "        \n",
    "        self.up = []\n",
    "        # Input filter count is the size of the bottlneck for the first up layer\n",
    "        # And then it will be the count of the previous up layer, which is equal to twice the count of the down layer\n",
    "        # (since we do some stacking with the skip connections)\n",
    "        \n",
    "        # Output filter count  will be twice the count of the down layer \n",
    "        # so that after the subpixel we get the same count as in the down layer\n",
    "        # and we can stack them together\n",
    "        for n_ch_in, n_ch_out, size in zip([n_channels[-1]/2] + n_channels[::-1][:-1], size_filters[::-1]):\n",
    "            self.up.append(Upsampling(n_ch_in*2, n_ch_out*2, size))\n",
    "                                            \n",
    "        self.out = LastConv(n_channels[0]*2, 9)\n",
    "        \n",
    "        \n",
    "        \n",
    "\n",
    "    def forward(self, x):\n",
    "\n",
    "        x1 = self.down1(x)\n",
    "        x2 = self.down2(x1)\n",
    "        x3 = self.down3(x2)\n",
    "        x4 = self.down4(x3)\n",
    "        b = bottleneck(x4)\n",
    "        y = self.up1(b, x4)\n",
    "        y = self.up2(y, x3)\n",
    "        y = self.up3(y, x2)\n",
    "        y = self.up4(y, x1)\n",
    "        y = self.last(y)\n",
    "        return y\n",
    "    \n",
    "net = Net(4)\n",
    "#print(net)"
   ]
  },
  {
   "cell_type": "code",
   "execution_count": 40,
   "metadata": {},
   "outputs": [],
   "source": [
    "# this is what they implemented in their git project\n",
    "B = 4\n",
    "n_channels = []\n",
    "size_filters = []\n",
    "for b in range(1, B+1):\n",
    "    n_channels.append(min(2**(6 + b), 512))\n",
    "    size_filters.append(max(2**(7-b) + 1, 9))"
   ]
  },
  {
   "cell_type": "code",
   "execution_count": 41,
   "metadata": {},
   "outputs": [
    {
     "data": {
      "text/plain": [
       "[128, 256, 512, 512]"
      ]
     },
     "execution_count": 41,
     "metadata": {},
     "output_type": "execute_result"
    }
   ],
   "source": [
    "n_channels"
   ]
  },
  {
   "cell_type": "code",
   "execution_count": 42,
   "metadata": {},
   "outputs": [
    {
     "data": {
      "text/plain": [
       "[65, 33, 17, 9]"
      ]
     },
     "execution_count": 42,
     "metadata": {},
     "output_type": "execute_result"
    }
   ],
   "source": [
    "size_filters"
   ]
  },
  {
   "cell_type": "code",
   "execution_count": 43,
   "metadata": {},
   "outputs": [
    {
     "name": "stdout",
     "output_type": "stream",
     "text": [
      "1 128 65\n",
      "128 256 33\n",
      "256 512 17\n",
      "512 512 9\n",
      "512 9\n",
      "512.0 1024 9\n",
      "1024 1024 17\n",
      "1024 512 33\n",
      "512 256 65\n",
      "256 9\n"
     ]
    }
   ],
   "source": [
    "# We can check here that we indeed generate the correct values in our nn\n",
    "\n",
    "for n_ch_in, n_ch_out, size in zip([1] + n_channels[:-1], n_channels, size_filters):\n",
    "    print(n_ch_in, n_ch_out, size)\n",
    "print(n_channels[-1], size_filters[-1])\n",
    "            \n",
    "for n_ch_in, n_ch_out, size in zip([n_channels[-1]/2] + n_channels[::-1][:-1], n_channels[::-1], size_filters[::-1]):\n",
    "    print(n_ch_in*2, n_ch_out*2, size)\n",
    "                                            \n",
    "print(n_channels[0]*2, 9)"
   ]
  },
  {
   "cell_type": "code",
   "execution_count": 20,
   "metadata": {},
   "outputs": [],
   "source": [
    "# this is what they did in the paper (inverse min and max). It looks wrong\n",
    "B = 8\n",
    "n_channels = []\n",
    "size_filters = []\n",
    "for b in range(1, B+1):\n",
    "    n_channels.append(max(2**(6 + b), 512))\n",
    "    size_filters.append(min(2**(7-b) + 1, 9))"
   ]
  },
  {
   "cell_type": "code",
   "execution_count": 21,
   "metadata": {},
   "outputs": [
    {
     "data": {
      "text/plain": [
       "[512, 512, 512, 1024, 2048, 4096, 8192, 16384]"
      ]
     },
     "execution_count": 21,
     "metadata": {},
     "output_type": "execute_result"
    }
   ],
   "source": [
    "n_channels"
   ]
  },
  {
   "cell_type": "code",
   "execution_count": 46,
   "metadata": {},
   "outputs": [
    {
     "data": {
      "text/plain": [
       "[9, 9, 9, 9, 5, 3, 2, 1.5]"
      ]
     },
     "execution_count": 46,
     "metadata": {},
     "output_type": "execute_result"
    }
   ],
   "source": [
    "size_filters"
   ]
  },
  {
   "cell_type": "code",
   "execution_count": 47,
   "metadata": {},
   "outputs": [],
   "source": [
    "# Let's put the corect one as a function\n",
    "def get_sizes_for_layers(B):\n",
    "    n_channels = []\n",
    "    size_filters = []\n",
    "    for b in range(1, B+1):\n",
    "        n_channels.append(min(2**(6 + b), 512))\n",
    "        size_filters.append(max(2**(7-b) + 1, 9))\n",
    "    return n_channels, size_filters\n",
    "    "
   ]
  },
  {
   "cell_type": "code",
   "execution_count": null,
   "metadata": {},
   "outputs": [],
   "source": []
  }
 ],
 "metadata": {
  "kernelspec": {
   "display_name": "Python 3",
   "language": "python",
   "name": "python3"
  },
  "language_info": {
   "codemirror_mode": {
    "name": "ipython",
    "version": 3
   },
   "file_extension": ".py",
   "mimetype": "text/x-python",
   "name": "python",
   "nbconvert_exporter": "python",
   "pygments_lexer": "ipython3",
   "version": "3.7.3"
  }
 },
 "nbformat": 4,
 "nbformat_minor": 2
}
