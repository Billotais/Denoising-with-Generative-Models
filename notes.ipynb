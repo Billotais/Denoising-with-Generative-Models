{
 "cells": [
  {
   "cell_type": "markdown",
   "metadata": {},
   "source": [
    "# Denoising with generative models"
   ]
  },
  {
   "cell_type": "markdown",
   "metadata": {},
   "source": [
    "## Pytorch tests"
   ]
  },
  {
   "cell_type": "markdown",
   "metadata": {},
   "source": [
    "### Creating a few tensors as tests"
   ]
  },
  {
   "cell_type": "code",
   "execution_count": 158,
   "metadata": {},
   "outputs": [],
   "source": [
    "import torch\n",
    "import torch.nn as nn\n",
    "import torch.nn.functional as F\n",
    "import torch.optim as optim"
   ]
  },
  {
   "cell_type": "code",
   "execution_count": 4,
   "metadata": {},
   "outputs": [],
   "source": [
    "x = torch.rand(1, 1, 1024) # (batch_size, n_channels, dim)\n",
    "y = torch.rand(1, 1, 1024)"
   ]
  },
  {
   "cell_type": "code",
   "execution_count": 5,
   "metadata": {},
   "outputs": [
    {
     "data": {
      "text/plain": [
       "tensor([[[0.1236, 0.2689, 0.0759,  ..., 0.1481, 0.9450, 0.1909]]])"
      ]
     },
     "execution_count": 5,
     "metadata": {},
     "output_type": "execute_result"
    }
   ],
   "source": [
    "x"
   ]
  },
  {
   "cell_type": "code",
   "execution_count": 6,
   "metadata": {},
   "outputs": [
    {
     "data": {
      "text/plain": [
       "tensor([[[0.2925, 0.3672, 0.7682,  ..., 0.9800, 0.7996, 0.9755]]])"
      ]
     },
     "execution_count": 6,
     "metadata": {},
     "output_type": "execute_result"
    }
   ],
   "source": [
    "y"
   ]
  },
  {
   "cell_type": "code",
   "execution_count": 7,
   "metadata": {
    "scrolled": true
   },
   "outputs": [],
   "source": [
    "z = torch.cat((x,y), 1)"
   ]
  },
  {
   "cell_type": "code",
   "execution_count": 8,
   "metadata": {
    "scrolled": true
   },
   "outputs": [
    {
     "data": {
      "text/plain": [
       "tensor([[[0.1236, 0.2689, 0.0759,  ..., 0.1481, 0.9450, 0.1909],\n",
       "         [0.2925, 0.3672, 0.7682,  ..., 0.9800, 0.7996, 0.9755]]])"
      ]
     },
     "execution_count": 8,
     "metadata": {},
     "output_type": "execute_result"
    }
   ],
   "source": [
    "z"
   ]
  },
  {
   "cell_type": "code",
   "execution_count": 9,
   "metadata": {},
   "outputs": [],
   "source": [
    "w = torch.rand(1, 4, 1024)"
   ]
  },
  {
   "cell_type": "code",
   "execution_count": 10,
   "metadata": {
    "scrolled": true
   },
   "outputs": [
    {
     "data": {
      "text/plain": [
       "tensor([[[0.6010, 0.2293, 0.0722,  ..., 0.0958, 0.5930, 0.7251],\n",
       "         [0.4487, 0.0432, 0.6465,  ..., 0.5226, 0.1675, 0.2837],\n",
       "         [0.5668, 0.1315, 0.4554,  ..., 0.5806, 0.8385, 0.5577],\n",
       "         [0.4950, 0.6618, 0.0491,  ..., 0.2633, 0.4735, 0.9857]]])"
      ]
     },
     "execution_count": 10,
     "metadata": {},
     "output_type": "execute_result"
    }
   ],
   "source": [
    "w"
   ]
  },
  {
   "cell_type": "markdown",
   "metadata": {},
   "source": [
    "### Subpixel operation"
   ]
  },
  {
   "cell_type": "code",
   "execution_count": 11,
   "metadata": {},
   "outputs": [],
   "source": [
    "# from https://gist.github.com/davidaknowles/6e95a643adaf3960d1648a6b369e9d0b\n",
    "def pixel_shuffle_1d(x, upscale_factor):\n",
    "    batch_size, channels, steps = x.size()\n",
    "    channels //= upscale_factor\n",
    "    input_view = x.contiguous().view(batch_size, channels, upscale_factor, steps)\n",
    "    shuffle_out = input_view.permute(0, 1, 3, 2).contiguous()\n",
    "    return shuffle_out.view(batch_size, channels, steps * upscale_factor)"
   ]
  },
  {
   "cell_type": "code",
   "execution_count": 12,
   "metadata": {},
   "outputs": [
    {
     "data": {
      "text/plain": [
       "tensor([[[0.1236, 0.2925, 0.2689,  ..., 0.7996, 0.1909, 0.9755]]])"
      ]
     },
     "execution_count": 12,
     "metadata": {},
     "output_type": "execute_result"
    }
   ],
   "source": [
    "pixel_shuffle_1d(z, 2)"
   ]
  },
  {
   "cell_type": "code",
   "execution_count": 13,
   "metadata": {
    "scrolled": true
   },
   "outputs": [
    {
     "data": {
      "text/plain": [
       "tensor([[[0.6010, 0.4487, 0.2293,  ..., 0.1675, 0.7251, 0.2837],\n",
       "         [0.5668, 0.4950, 0.1315,  ..., 0.4735, 0.5577, 0.9857]]])"
      ]
     },
     "execution_count": 13,
     "metadata": {},
     "output_type": "execute_result"
    }
   ],
   "source": [
    "pixel_shuffle_1d(w, 2)"
   ]
  },
  {
   "cell_type": "code",
   "execution_count": null,
   "metadata": {},
   "outputs": [],
   "source": []
  },
  {
   "cell_type": "markdown",
   "metadata": {},
   "source": [
    "### Generate base sizes and count for each level"
   ]
  },
  {
   "cell_type": "code",
   "execution_count": 296,
   "metadata": {},
   "outputs": [],
   "source": [
    "# this is what they implemented in their git project\n",
    "\n",
    "def get_sizes_for_layers(B):\n",
    "    n_channels = []\n",
    "    size_filters = []\n",
    "    #test = []\n",
    "    for b in range(1, B+1):\n",
    "        n_channels.append(min(2**(6 + b), 512)) # They wrote max in paper, but min in code\n",
    "        size_filters.append(max(2**(7-b) + 1, 9)) # They wrote min in paper, but max in code\n",
    "        #test.append(min(2**(7+(B-b+1)), 512))\n",
    "    \n",
    "    return n_channels, size_filters"
   ]
  },
  {
   "cell_type": "code",
   "execution_count": 297,
   "metadata": {},
   "outputs": [
    {
     "name": "stdout",
     "output_type": "stream",
     "text": [
      "[512, 512, 512, 256]\n"
     ]
    }
   ],
   "source": [
    "B = 4\n",
    "n_channels, size_filters = get_sizes_for_layers(B)"
   ]
  },
  {
   "cell_type": "code",
   "execution_count": 17,
   "metadata": {},
   "outputs": [
    {
     "data": {
      "text/plain": [
       "([128, 256, 512, 512], [65, 33, 17, 9])"
      ]
     },
     "execution_count": 17,
     "metadata": {},
     "output_type": "execute_result"
    }
   ],
   "source": [
    "n_channels, size_filters #Checking values"
   ]
  },
  {
   "cell_type": "markdown",
   "metadata": {},
   "source": [
    "### Generate correct parameters for up and down"
   ]
  },
  {
   "cell_type": "code",
   "execution_count": 18,
   "metadata": {},
   "outputs": [],
   "source": [
    "# The input channel count is equal to the the output channel count of the previous layer\n",
    "# Input will be all the channel counts, shifted to the right with a 1 before\n",
    "def args_down(n_channels, size_filters):\n",
    "    return zip([1] + n_channels[:-1], n_channels, size_filters)\n",
    "\n",
    "# Input filter count is the size of the bottlneck for the first up layer\n",
    "# And then it will be the count of the previous up layer, which is equal to twice the count of the down layer\n",
    "# (since we do some stacking with the skip connections)\n",
    "\n",
    "# Output filter count  will be twice the count of the down layer \n",
    "# so that after the subpixel we get the same count as in the down layer\n",
    "# and we can stack them together\n",
    "def args_up(n_channels, size_filters):\n",
    "    return zip([int(n_channels[-1]/2)] + n_channels[::-1][:-1], n_channels[::-1], size_filters[::-1])"
   ]
  },
  {
   "cell_type": "code",
   "execution_count": 19,
   "metadata": {},
   "outputs": [
    {
     "data": {
      "text/plain": [
       "[(1, 128, 65), (128, 256, 33), (256, 512, 17), (512, 512, 9)]"
      ]
     },
     "execution_count": 19,
     "metadata": {},
     "output_type": "execute_result"
    }
   ],
   "source": [
    "list(args_down(n_channels, size_filters))"
   ]
  },
  {
   "cell_type": "code",
   "execution_count": 20,
   "metadata": {},
   "outputs": [
    {
     "data": {
      "text/plain": [
       "[(256, 512, 9), (512, 512, 17), (512, 256, 33), (256, 128, 65)]"
      ]
     },
     "execution_count": 20,
     "metadata": {},
     "output_type": "execute_result"
    }
   ],
   "source": [
    "list(args_up(n_channels, size_filters))"
   ]
  },
  {
   "cell_type": "markdown",
   "metadata": {},
   "source": [
    "#### And if we use the arguments, we get the same parameters as the manually defined ones"
   ]
  },
  {
   "cell_type": "code",
   "execution_count": 21,
   "metadata": {
    "scrolled": true
   },
   "outputs": [
    {
     "name": "stdout",
     "output_type": "stream",
     "text": [
      "1 128 65\n",
      "128 256 33\n",
      "256 512 17\n",
      "512 512 9\n",
      "512 9\n",
      "512 1024 9\n",
      "1024 1024 17\n",
      "1024 512 33\n",
      "512 256 65\n",
      "256 9\n"
     ]
    }
   ],
   "source": [
    "for n_ch_in, n_ch_out, size in args_down(n_channels, size_filters):\n",
    "    print(n_ch_in, n_ch_out, size)\n",
    "print(n_channels[-1], size_filters[-1])\n",
    "            \n",
    "for n_ch_in, n_ch_out, size in args_up(n_channels, size_filters):\n",
    "    print(n_ch_in*2, n_ch_out*2, size)\n",
    "                                            \n",
    "print(n_channels[0]*2, 9)"
   ]
  },
  {
   "cell_type": "markdown",
   "metadata": {},
   "source": [
    "## Neural Network architecture"
   ]
  },
  {
   "cell_type": "code",
   "execution_count": 246,
   "metadata": {},
   "outputs": [],
   "source": [
    "class Subpixel(nn.Module):\n",
    "    def __init__(self):\n",
    "        super(Subpixel, self).__init__()\n",
    "           \n",
    "    def forward(self, x):\n",
    "        y = pixel_shuffle_1d(x, 2)\n",
    "        return y"
   ]
  },
  {
   "cell_type": "code",
   "execution_count": 247,
   "metadata": {},
   "outputs": [],
   "source": [
    "class Concat(nn.Module):\n",
    "    def __init__(self):\n",
    "        super(Concat, self).__init__()\n",
    "           \n",
    "        \n",
    "    def forward(self, x1, x2):\n",
    "        y = torch.cat((x1, x2), 1) # concat on dim 1 (channel dimension)\n",
    "        return y"
   ]
  },
  {
   "cell_type": "code",
   "execution_count": 248,
   "metadata": {},
   "outputs": [],
   "source": [
    "class Add(nn.Module):\n",
    "    def __init__(self):\n",
    "        super(Add, self).__init__()\n",
    "           \n",
    "        \n",
    "    def forward(self, x1, x2):\n",
    "        y = torch.add(x1, x2)\n",
    "        return y"
   ]
  },
  {
   "cell_type": "code",
   "execution_count": 249,
   "metadata": {},
   "outputs": [],
   "source": [
    "class Downsampling(nn.Module):\n",
    "    \n",
    "    def __init__(self, in_ch, out_ch, size, verbose=0):\n",
    "        super(Downsampling, self).__init__()\n",
    "        self.verbose = verbose\n",
    "        \n",
    "        self.conv = nn.Sequential(\n",
    "            # We need a padding mode = same to get the same behavior as the paper\n",
    "            # But it doesn't seem to exist in pytorch\n",
    "            nn.Conv1d(in_channels=in_ch, out_channels=out_ch, kernel_size=size, stride=2, padding_mode='zeros', padding=int((size-1)/2)), \n",
    "            nn.LeakyReLU(0.2)\n",
    "        )\n",
    "        \n",
    "    def forward(self, x):\n",
    "        if self.verbose: print(\"Before conv down : \" + str(x.size()))\n",
    "        y = self.conv(x)\n",
    "        if self.verbose: print(\"After conv down : \" + str(y.size()))\n",
    "        return y"
   ]
  },
  {
   "cell_type": "code",
   "execution_count": 250,
   "metadata": {},
   "outputs": [],
   "source": [
    "class Bottleneck(nn.Module):\n",
    "    def __init__(self, ch, size, verbose=0):\n",
    "        super(Bottleneck, self).__init__()\n",
    "        self.verbose = verbose\n",
    "        self.conv = nn.Sequential(\n",
    "            # We need a padding mode = same to get the same behavior as the paper\n",
    "            # But it doesn't seem to exist in pytorch\n",
    "            nn.Conv1d(in_channels=ch, out_channels=ch, kernel_size=size, stride=2, padding_mode='zeros', padding = int((size-1)/2)), \n",
    "            nn.Dropout(0.5),\n",
    "            nn.LeakyReLU(0.2)\n",
    "        )\n",
    "        \n",
    "    def forward(self, x):\n",
    "        if self.verbose: print(\"Bottleneck before: \" + str(x.size()))\n",
    "        y = self.conv(x)\n",
    "        if self.verbose: print(\"Bottleneck after: \" + str(y.size()))\n",
    "        return y"
   ]
  },
  {
   "cell_type": "code",
   "execution_count": 251,
   "metadata": {},
   "outputs": [],
   "source": [
    "class Upsampling(nn.Module):\n",
    "    def __init__(self, in_ch, out_ch, size, verbose=0):\n",
    "        super(Upsampling, self).__init__()\n",
    "        self.verbose = verbose\n",
    "        self.conv = nn.Sequential(\n",
    "            # We need a padding mode = same to get the same behavior as the paper\n",
    "            # But it doesn't seem to exist in pytorch\n",
    "            nn.Conv1d(in_channels=in_ch, out_channels=out_ch, kernel_size=size, stride=1, padding_mode='zeros', padding = int((size-1)/2)),\n",
    "            nn.Dropout(p=0.5),\n",
    "            nn.ReLU()\n",
    "        )\n",
    "        self.subpixel = Subpixel()\n",
    "        self.concat = Concat()\n",
    "        \n",
    "    def forward(self, x1, x2):\n",
    "        if self.verbose: print(\"Upsampling before: \" + str(x1.size()))\n",
    "        y = self.conv(x1)\n",
    "        if self.verbose: print(\"Upsampling conv: \" + str(y.size()))\n",
    "        y = self.subpixel(y)\n",
    "        if self.verbose: print(\"Upsampling subpixel: \" + str(y.size()))\n",
    "        y = self.concat(y, x2)\n",
    "        if self.verbose: print(\"Upsampling concat: \" + str(y.size()))\n",
    "        return y"
   ]
  },
  {
   "cell_type": "code",
   "execution_count": 252,
   "metadata": {},
   "outputs": [],
   "source": [
    "class LastConv(nn.Module):\n",
    "    def __init__(self, in_ch, size, verbose=0):\n",
    "        super(LastConv, self).__init__()\n",
    "        self.verbose = verbose\n",
    "        self.conv = nn.Conv1d(in_channels=in_ch, out_channels=2, kernel_size=9, stride=1, padding_mode='zeros', padding = int((size-1)/2))\n",
    "        self.subpixel = Subpixel()\n",
    "        self.add = Add()\n",
    "           \n",
    "        \n",
    "    def forward(self, x1, x2):\n",
    "        if self.verbose: print(\"Final before: \" + str(x1.size()))\n",
    "        y = self.conv(x1)\n",
    "        if self.verbose: print(\"Final conv: \" + str(y.size()))\n",
    "        y = self.subpixel(y)\n",
    "        if self.verbose: print(\"Final subpixel: \" + str(y.size()))\n",
    "        y = self.add(y, x2)\n",
    "        if self.verbose: print(\"Final add: \" + str(y.size()))\n",
    "        return y"
   ]
  },
  {
   "cell_type": "code",
   "execution_count": 253,
   "metadata": {
    "scrolled": false
   },
   "outputs": [],
   "source": [
    "class Net(nn.Module):\n",
    "\n",
    "    def __init__(self, depth, verbose=0):\n",
    "        super(Net, self).__init__()\n",
    "        self.verbose = verbose\n",
    "        \n",
    "        \n",
    "        \n",
    "        # Manual definition\n",
    "        \n",
    "        \n",
    "        #B = 4\n",
    "        #n_channels= [128, 256, 512, 512] # max(2^(6+b), 512) \n",
    "        #size_filters = [65, 33, 17, 9] # min(2^(7−b) + 1, 9)\n",
    "        \n",
    "        #self.down1 = Downsampling(1, 128, 63)\n",
    "        #self.down2 = Downsampling(128, 256, 33)\n",
    "        #self.down3 = Downsampling(256, 512, 17)\n",
    "        #self.down4 = Downsampling(512, 512, 9)\n",
    "        #self.bottleneck = Bottleneck(512, 9)\n",
    "        #self.up1 = Upsampling(int((512/2)*2), 512*2, 9)\n",
    "        #self.up2 = Upsampling(512*2, 512*2, 17)\n",
    "        #self.up3 = Upsampling(512*2, 256*2, 33)\n",
    "        #self.up4 = Upsampling(256*2, 128*2, 63)\n",
    "        #self.last = LastConv(128*2, 9)\n",
    "\n",
    "        \n",
    "        # Automatic definition, seems to work :\n",
    "        \n",
    "        B = depth\n",
    "        n_channels, size_filters = get_sizes_for_layers(B)\n",
    "        \n",
    "        # Downsampling\n",
    "        self.down = []\n",
    "        for n_ch_in, n_ch_out, size in args_down(n_channels, size_filters):\n",
    "            self.down.append(Downsampling(n_ch_in, n_ch_out, size, verbose))\n",
    "            \n",
    "        # Bottlneck\n",
    "        self.bottleneck = Bottleneck(n_channels[-1], size_filters[-1], verbose)\n",
    "        \n",
    "        # Upsampling\n",
    "        self.up = []\n",
    "        for n_ch_in, n_ch_out, size in args_up(n_channels, size_filters):\n",
    "            self.up.append(Upsampling(n_ch_in*2, n_ch_out*2, size, verbose))\n",
    "              \n",
    "        # Final layer\n",
    "        self.last = LastConv(n_channels[0]*2, 9, verbose)\n",
    "        \n",
    "        \n",
    "        \n",
    "\n",
    "    def forward(self, x):\n",
    "\n",
    "        # Manual \n",
    "        \n",
    "        #x1 = self.down1(x)\n",
    "        #x2 = self.down2(x1)\n",
    "        #x3 = self.down3(x2)\n",
    "        #x4 = self.down4(x3)\n",
    "        #b = self.bottleneck(x4)\n",
    "        #y = self.up1(b, x4)\n",
    "        #y = self.up2(y, x3)\n",
    "        #y = self.up3(y, x2)\n",
    "        #y = self.up4(y, x1)\n",
    "        #y = self.last(y, x)\n",
    "        \n",
    "        # Automatic\n",
    "        \n",
    "        # Downsampling\n",
    "        down_out = []\n",
    "        xi = x\n",
    "        for i in range(len(self.down)):\n",
    "            xi = self.down[i](xi)\n",
    "            down_out.append(xi)\n",
    "            \n",
    "        # Bottleneck\n",
    "        b = self.bottleneck(xi)\n",
    "        \n",
    "        # Upsampling\n",
    "        y = b\n",
    "        for i in range(len(self.up)):\n",
    "            y = self.up[i](y, down_out[-(i+1)])\n",
    "            \n",
    "        # Final layer\n",
    "        y = self.last(y, x)\n",
    "       \n",
    "        return y\n",
    "    \n",
    "\n",
    "#print(net)"
   ]
  },
  {
   "cell_type": "code",
   "execution_count": 290,
   "metadata": {},
   "outputs": [
    {
     "name": "stdout",
     "output_type": "stream",
     "text": [
      "input : tensor([[[ 0.7545, -2.0460,  0.2637,  ..., -0.0858,  1.1392, -0.5128]]],\n",
      "       requires_grad=True)\n",
      "Before conv down : torch.Size([1, 1, 2048])\n",
      "After conv down : torch.Size([1, 128, 1024])\n",
      "Before conv down : torch.Size([1, 128, 1024])\n",
      "After conv down : torch.Size([1, 256, 512])\n",
      "Before conv down : torch.Size([1, 256, 512])\n",
      "After conv down : torch.Size([1, 512, 256])\n",
      "Before conv down : torch.Size([1, 512, 256])\n",
      "After conv down : torch.Size([1, 512, 128])\n",
      "Before conv down : torch.Size([1, 512, 128])\n",
      "After conv down : torch.Size([1, 512, 64])\n",
      "Before conv down : torch.Size([1, 512, 64])\n",
      "After conv down : torch.Size([1, 512, 32])\n",
      "Before conv down : torch.Size([1, 512, 32])\n",
      "After conv down : torch.Size([1, 512, 16])\n",
      "Before conv down : torch.Size([1, 512, 16])\n",
      "After conv down : torch.Size([1, 512, 8])\n",
      "Bottleneck before: torch.Size([1, 512, 8])\n",
      "Bottleneck after: torch.Size([1, 512, 4])\n",
      "Upsampling before: torch.Size([1, 512, 4])\n",
      "Upsampling conv: torch.Size([1, 1024, 4])\n",
      "Upsampling subpixel: torch.Size([1, 512, 8])\n",
      "Upsampling concat: torch.Size([1, 1024, 8])\n",
      "Upsampling before: torch.Size([1, 1024, 8])\n",
      "Upsampling conv: torch.Size([1, 1024, 8])\n",
      "Upsampling subpixel: torch.Size([1, 512, 16])\n",
      "Upsampling concat: torch.Size([1, 1024, 16])\n",
      "Upsampling before: torch.Size([1, 1024, 16])\n",
      "Upsampling conv: torch.Size([1, 1024, 16])\n",
      "Upsampling subpixel: torch.Size([1, 512, 32])\n",
      "Upsampling concat: torch.Size([1, 1024, 32])\n",
      "Upsampling before: torch.Size([1, 1024, 32])\n",
      "Upsampling conv: torch.Size([1, 1024, 32])\n",
      "Upsampling subpixel: torch.Size([1, 512, 64])\n",
      "Upsampling concat: torch.Size([1, 1024, 64])\n",
      "Upsampling before: torch.Size([1, 1024, 64])\n",
      "Upsampling conv: torch.Size([1, 1024, 64])\n",
      "Upsampling subpixel: torch.Size([1, 512, 128])\n",
      "Upsampling concat: torch.Size([1, 1024, 128])\n",
      "Upsampling before: torch.Size([1, 1024, 128])\n",
      "Upsampling conv: torch.Size([1, 1024, 128])\n",
      "Upsampling subpixel: torch.Size([1, 512, 256])\n",
      "Upsampling concat: torch.Size([1, 1024, 256])\n",
      "Upsampling before: torch.Size([1, 1024, 256])\n",
      "Upsampling conv: torch.Size([1, 512, 256])\n",
      "Upsampling subpixel: torch.Size([1, 256, 512])\n",
      "Upsampling concat: torch.Size([1, 512, 512])\n",
      "Upsampling before: torch.Size([1, 512, 512])\n",
      "Upsampling conv: torch.Size([1, 256, 512])\n",
      "Upsampling subpixel: torch.Size([1, 128, 1024])\n",
      "Upsampling concat: torch.Size([1, 256, 1024])\n",
      "Final before: torch.Size([1, 256, 1024])\n",
      "Final conv: torch.Size([1, 2, 1024])\n",
      "Final subpixel: torch.Size([1, 1, 2048])\n",
      "Final add: torch.Size([1, 1, 2048])\n",
      "outputtensor([[[ 0.7377, -1.9401,  0.1518,  ..., -0.0710,  1.1343, -0.7111]]],\n",
      "       grad_fn=<AddBackward0>)\n"
     ]
    }
   ],
   "source": [
    "# Warning : Depth must be < log(input size) if input is a power of 2\n",
    "# Otherwise this limit is lower : D  = max (i) s.t. inputsize/2^i is integer\n",
    "\n",
    "net = Net(8, verbose = 1)\n",
    "INPUT_SIZE = 2048\n",
    "\n",
    "input = torch.randn(1, 1, INPUT_SIZE, requires_grad=True)\n",
    "print(\"input : \" + str(input))\n",
    "out = net(input)\n",
    "print(\"output\" + str(out))\n"
   ]
  },
  {
   "cell_type": "code",
   "execution_count": 284,
   "metadata": {},
   "outputs": [],
   "source": [
    "criterion = nn.MSELoss()\n",
    "optimizer = optim.Adam(net.parameters(), lr=0.0001)\n",
    "\n",
    "# in your training loop:\n",
    "\n",
    "#print(list(net.parameters()))\n",
    "\n",
    "optimizer.zero_grad()   # zero the gradient buffers\n",
    "out = net(input)\n",
    "loss = criterion(out, torch.randn(1, 1, INPUT_SIZE))\n",
    "loss.backward()\n",
    "optimizer.step()  \n",
    "\n",
    "#print(list(net.parameters())) # We can check that the parameters have changed."
   ]
  },
  {
   "cell_type": "code",
   "execution_count": 299,
   "metadata": {},
   "outputs": [
    {
     "name": "stdout",
     "output_type": "stream",
     "text": [
      "input : tensor([[[ 0.7545, -2.0460,  0.2637,  ..., -0.0858,  1.1392, -0.5128]]],\n",
      "       requires_grad=True)\n",
      "Before conv down : torch.Size([1, 1, 2048])\n",
      "After conv down : torch.Size([1, 128, 1024])\n",
      "Before conv down : torch.Size([1, 128, 1024])\n",
      "After conv down : torch.Size([1, 256, 512])\n",
      "Before conv down : torch.Size([1, 256, 512])\n",
      "After conv down : torch.Size([1, 512, 256])\n",
      "Before conv down : torch.Size([1, 512, 256])\n",
      "After conv down : torch.Size([1, 512, 128])\n",
      "Before conv down : torch.Size([1, 512, 128])\n",
      "After conv down : torch.Size([1, 512, 64])\n",
      "Before conv down : torch.Size([1, 512, 64])\n",
      "After conv down : torch.Size([1, 512, 32])\n",
      "Before conv down : torch.Size([1, 512, 32])\n",
      "After conv down : torch.Size([1, 512, 16])\n",
      "Before conv down : torch.Size([1, 512, 16])\n",
      "After conv down : torch.Size([1, 512, 8])\n",
      "Bottleneck before: torch.Size([1, 512, 8])\n",
      "Bottleneck after: torch.Size([1, 512, 4])\n",
      "Upsampling before: torch.Size([1, 512, 4])\n",
      "Upsampling conv: torch.Size([1, 1024, 4])\n",
      "Upsampling subpixel: torch.Size([1, 512, 8])\n",
      "Upsampling concat: torch.Size([1, 1024, 8])\n",
      "Upsampling before: torch.Size([1, 1024, 8])\n",
      "Upsampling conv: torch.Size([1, 1024, 8])\n",
      "Upsampling subpixel: torch.Size([1, 512, 16])\n",
      "Upsampling concat: torch.Size([1, 1024, 16])\n",
      "Upsampling before: torch.Size([1, 1024, 16])\n",
      "Upsampling conv: torch.Size([1, 1024, 16])\n",
      "Upsampling subpixel: torch.Size([1, 512, 32])\n",
      "Upsampling concat: torch.Size([1, 1024, 32])\n",
      "Upsampling before: torch.Size([1, 1024, 32])\n",
      "Upsampling conv: torch.Size([1, 1024, 32])\n",
      "Upsampling subpixel: torch.Size([1, 512, 64])\n",
      "Upsampling concat: torch.Size([1, 1024, 64])\n",
      "Upsampling before: torch.Size([1, 1024, 64])\n",
      "Upsampling conv: torch.Size([1, 1024, 64])\n",
      "Upsampling subpixel: torch.Size([1, 512, 128])\n",
      "Upsampling concat: torch.Size([1, 1024, 128])\n",
      "Upsampling before: torch.Size([1, 1024, 128])\n",
      "Upsampling conv: torch.Size([1, 1024, 128])\n",
      "Upsampling subpixel: torch.Size([1, 512, 256])\n",
      "Upsampling concat: torch.Size([1, 1024, 256])\n",
      "Upsampling before: torch.Size([1, 1024, 256])\n",
      "Upsampling conv: torch.Size([1, 512, 256])\n",
      "Upsampling subpixel: torch.Size([1, 256, 512])\n",
      "Upsampling concat: torch.Size([1, 512, 512])\n",
      "Upsampling before: torch.Size([1, 512, 512])\n",
      "Upsampling conv: torch.Size([1, 256, 512])\n",
      "Upsampling subpixel: torch.Size([1, 128, 1024])\n",
      "Upsampling concat: torch.Size([1, 256, 1024])\n",
      "Final before: torch.Size([1, 256, 1024])\n",
      "Final conv: torch.Size([1, 2, 1024])\n",
      "Final subpixel: torch.Size([1, 1, 2048])\n",
      "Final add: torch.Size([1, 1, 2048])\n",
      "outputtensor([[[ 0.7317, -1.9659,  0.1292,  ..., -0.0856,  1.1386, -0.7148]]],\n",
      "       grad_fn=<AddBackward0>)\n"
     ]
    }
   ],
   "source": [
    "print(\"input : \" + str(input))\n",
    "out = net(input)\n",
    "print(\"output\" + str(out))"
   ]
  },
  {
   "cell_type": "code",
   "execution_count": null,
   "metadata": {},
   "outputs": [],
   "source": []
  },
  {
   "cell_type": "code",
   "execution_count": null,
   "metadata": {},
   "outputs": [],
   "source": []
  }
 ],
 "metadata": {
  "kernelspec": {
   "display_name": "Python 3",
   "language": "python",
   "name": "python3"
  },
  "language_info": {
   "codemirror_mode": {
    "name": "ipython",
    "version": 3
   },
   "file_extension": ".py",
   "mimetype": "text/x-python",
   "name": "python",
   "nbconvert_exporter": "python",
   "pygments_lexer": "ipython3",
   "version": "3.7.3"
  }
 },
 "nbformat": 4,
 "nbformat_minor": 2
}
